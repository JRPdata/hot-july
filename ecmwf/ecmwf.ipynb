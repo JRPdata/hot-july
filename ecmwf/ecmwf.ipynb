{
 "cells": [
  {
   "cell_type": "code",
   "execution_count": 1,
   "id": "5919811a",
   "metadata": {},
   "outputs": [],
   "source": [
    "import ecmwf.data as ecdata\n",
    "from ecmwf.opendata import Client\n",
    "import numpy as np\n",
    "import time\n",
    "import json\n",
    "import os\n",
    "from datetime import datetime"
   ]
  },
  {
   "cell_type": "code",
   "execution_count": 2,
   "id": "ea4f7394",
   "metadata": {},
   "outputs": [],
   "source": [
    "def get_date_from_offset(date_string, offset_hours):\n",
    "    date_format = \"%Y%m%d\"\n",
    "    date = datetime.strptime(date_string, date_format)\n",
    "    result_date = date + timedelta(hours=offset_hours)\n",
    "    return result_date\n",
    "\n",
    "def date_to_time_str(date_time):\n",
    "    date_format = \"%Y-%m-%d %H:%M:%S\"\n",
    "    time_str = date_time.strftime(date_format)\n",
    "    return time_str\n",
    "\n",
    "def date_to_day_str(date_time):\n",
    "    date_format = \"%m-%d-%Y\"\n",
    "    month_day_year = date_time.strftime(date_format)\n",
    "    return month_day_year\n",
    "\n",
    "def date_to_short_str(date_time):\n",
    "    date_format = \"%Y%m%d_%H\"\n",
    "    folder_str = date_time.strftime(date_format)\n",
    "    return folder_str\n",
    "\n",
    "def short_str_to_date(short_str):\n",
    "    return datetime.strptime(short_str, \"%Y%m%d_%H\")\n",
    "\n",
    "def short_str_date_hour(short_str):\n",
    "    return short_str[-2:]\n",
    "\n",
    "def short_str_no_hour(short_str):\n",
    "    return short_str[0:-3]\n",
    "\n",
    "def short_str_no_hour_to_date(short_str):\n",
    "    return datetime.strptime(short_str, \"%Y%m%d\")"
   ]
  },
  {
   "cell_type": "code",
   "execution_count": null,
   "id": "58b3e1f3",
   "metadata": {},
   "outputs": [],
   "source": []
  },
  {
   "cell_type": "code",
   "execution_count": 3,
   "id": "14ce4280",
   "metadata": {},
   "outputs": [],
   "source": [
    "def retrieve_all_steps_2t(d, t):\n",
    "    # d should be 0 (for today), or -1, -2 (for yesterday, day before yesterday)\n",
    "    # only use t = 0 or t = 12 (as that is the only one that has 'oper' forecasts)\n",
    "    # oper forecasts go from 0 to 144 every 3 hours, then 150 to 240 every 6 hours\n",
    "    steps3 = list(range(0,147, 3))\n",
    "    steps6 = list(range(150,246,6))\n",
    "    steps = steps3 + steps6\n",
    "    averages = {}\n",
    "    for step in steps:\n",
    "        parameters = ['2t']\n",
    "        output_filename = '2t.grib'\n",
    "        time.sleep(1)\n",
    "        client.retrieve(\n",
    "            date=d,\n",
    "            time=t,\n",
    "            step=step,\n",
    "            stream=\"oper\",\n",
    "            type=\"fc\",\n",
    "            levtype=\"sfc\",\n",
    "            param=parameters,\n",
    "            target=output_filename\n",
    "        )\n",
    "        data = ecdata.read(output_filename)\n",
    "        # describe = data.describe()\n",
    "        t2m = data.select(shortName=\"2t\")\n",
    "        # convert from kelvin to celsius\n",
    "        t2m -= 273.15\n",
    "        average = np.average(t2m.values())\n",
    "        base_date = date_to_short_str(t2m.base_date())\n",
    "        valid_date = date_to_short_str(t2m.valid_date())\n",
    "        if base_date not in averages:\n",
    "            averages[base_date] = {}\n",
    "        averages[base_date][valid_date] = average\n",
    "    return averages\n",
    "\n",
    "def write_averages(averages_data_folder, averages):\n",
    "    # write the data for the averages so we don't have to compute again\n",
    "    if not os.path.exists(averages_data_folder):\n",
    "        os.makedirs(averages_data_folder)\n",
    "    for base_date, data in averages.items():\n",
    "        file_path = os.path.join(averages_data_folder, base_date)\n",
    "        with open(file_path, 'w') as f:\n",
    "            json_object = json.dumps(data, indent=4)\n",
    "            f.write(json_object)"
   ]
  },
  {
   "cell_type": "code",
   "execution_count": 4,
   "id": "4782d507",
   "metadata": {},
   "outputs": [],
   "source": [
    "# Compute day averages and graph them\n",
    "def process_file(file_path):\n",
    "    with open(file_path, 'r') as f:\n",
    "        forecast_temperatures = json.load(f)\n",
    "    \n",
    "    last_date = None\n",
    "    complete_averages = {}\n",
    "    \n",
    "    # calculate the average for each day\n",
    "    last_day_str = None\n",
    "    day_averages = []\n",
    "    last_avg = None\n",
    "    first_day = True\n",
    "    first_hour = None\n",
    "    for valid_time, avg in forecast_temperatures.items():\n",
    "        # handle case for first observation\n",
    "        if last_day_str is None:\n",
    "            last_day_str = short_str_no_hour(valid_time)\n",
    "            first_hour = short_str_date_hour(valid_time)\n",
    "\n",
    "        day_str = short_str_no_hour(valid_time)\n",
    "        if day_str == last_day_str:\n",
    "            # time step in same day\n",
    "            day_averages.append(avg)\n",
    "        else:\n",
    "            # time step goes to next day\n",
    "            # print out the previous day's average first\n",
    "            \n",
    "            day_average = np.average(day_averages)\n",
    "            if last_avg == None:\n",
    "                last_avg = day_average\n",
    "            day_over_day_delta = day_average - last_avg\n",
    "            print(f\"Global 2m temp average (C) for {last_day_str}: {day_average:6.3f} (day over day delta: {day_over_day_delta:6.3f})\")\n",
    "            # don't include non-complete days\n",
    "            if not first_day or first_hour == '00':\n",
    "                complete_averages[last_day_str] = day_average\n",
    "            # clear the list for the new day\n",
    "            day_averages = []\n",
    "            # change the last_day\n",
    "            last_day_str = day_str\n",
    "            # add the current day's average to the list\n",
    "            day_averages.append(avg)\n",
    "            last_avg = day_average\n",
    "            # set first day done\n",
    "            first_day = False\n",
    "    return complete_averages"
   ]
  },
  {
   "cell_type": "code",
   "execution_count": 9,
   "id": "6ac04ce2",
   "metadata": {},
   "outputs": [
    {
     "data": {
      "application/json": {
       "ascii": false,
       "bar_format": null,
       "colour": null,
       "elapsed": 0.013266563415527344,
       "initial": 0,
       "n": 0,
       "ncols": null,
       "nrows": 25,
       "postfix": null,
       "prefix": "20230809000000-0h-oper-fc.grib2",
       "rate": null,
       "total": 285225,
       "unit": "B",
       "unit_divisor": 1024,
       "unit_scale": true
      },
      "application/vnd.jupyter.widget-view+json": {
       "model_id": "",
       "version_major": 2,
       "version_minor": 0
      },
      "text/plain": [
       "20230809000000-0h-oper-fc.grib2:   0%|          | 0.00/279k [00:00<?, ?B/s]"
      ]
     },
     "metadata": {},
     "output_type": "display_data"
    },
    {
     "data": {
      "application/json": {
       "ascii": false,
       "bar_format": null,
       "colour": null,
       "elapsed": 0.01999378204345703,
       "initial": 0,
       "n": 0,
       "ncols": null,
       "nrows": 25,
       "postfix": null,
       "prefix": "20230809000000-3h-oper-fc.grib2",
       "rate": null,
       "total": 285932,
       "unit": "B",
       "unit_divisor": 1024,
       "unit_scale": true
      },
      "application/vnd.jupyter.widget-view+json": {
       "model_id": "",
       "version_major": 2,
       "version_minor": 0
      },
      "text/plain": [
       "20230809000000-3h-oper-fc.grib2:   0%|          | 0.00/279k [00:00<?, ?B/s]"
      ]
     },
     "metadata": {},
     "output_type": "display_data"
    },
    {
     "data": {
      "application/json": {
       "ascii": false,
       "bar_format": null,
       "colour": null,
       "elapsed": 0.035941362380981445,
       "initial": 0,
       "n": 0,
       "ncols": null,
       "nrows": 25,
       "postfix": null,
       "prefix": "20230809000000-6h-oper-fc.grib2",
       "rate": null,
       "total": 285999,
       "unit": "B",
       "unit_divisor": 1024,
       "unit_scale": true
      },
      "application/vnd.jupyter.widget-view+json": {
       "model_id": "",
       "version_major": 2,
       "version_minor": 0
      },
      "text/plain": [
       "20230809000000-6h-oper-fc.grib2:   0%|          | 0.00/279k [00:00<?, ?B/s]"
      ]
     },
     "metadata": {},
     "output_type": "display_data"
    },
    {
     "data": {
      "application/json": {
       "ascii": false,
       "bar_format": null,
       "colour": null,
       "elapsed": 0.01747870445251465,
       "initial": 0,
       "n": 0,
       "ncols": null,
       "nrows": 25,
       "postfix": null,
       "prefix": "20230809000000-9h-oper-fc.grib2",
       "rate": null,
       "total": 287712,
       "unit": "B",
       "unit_divisor": 1024,
       "unit_scale": true
      },
      "application/vnd.jupyter.widget-view+json": {
       "model_id": "",
       "version_major": 2,
       "version_minor": 0
      },
      "text/plain": [
       "20230809000000-9h-oper-fc.grib2:   0%|          | 0.00/281k [00:00<?, ?B/s]"
      ]
     },
     "metadata": {},
     "output_type": "display_data"
    },
    {
     "data": {
      "application/json": {
       "ascii": false,
       "bar_format": null,
       "colour": null,
       "elapsed": 0.009641647338867188,
       "initial": 0,
       "n": 0,
       "ncols": null,
       "nrows": 25,
       "postfix": null,
       "prefix": "20230809000000-12h-oper-fc.grib2",
       "rate": null,
       "total": 288271,
       "unit": "B",
       "unit_divisor": 1024,
       "unit_scale": true
      },
      "application/vnd.jupyter.widget-view+json": {
       "model_id": "",
       "version_major": 2,
       "version_minor": 0
      },
      "text/plain": [
       "20230809000000-12h-oper-fc.grib2:   0%|          | 0.00/282k [00:00<?, ?B/s]"
      ]
     },
     "metadata": {},
     "output_type": "display_data"
    },
    {
     "data": {
      "application/json": {
       "ascii": false,
       "bar_format": null,
       "colour": null,
       "elapsed": 0.011825799942016602,
       "initial": 0,
       "n": 0,
       "ncols": null,
       "nrows": 25,
       "postfix": null,
       "prefix": "20230809000000-15h-oper-fc.grib2",
       "rate": null,
       "total": 288164,
       "unit": "B",
       "unit_divisor": 1024,
       "unit_scale": true
      },
      "application/vnd.jupyter.widget-view+json": {
       "model_id": "",
       "version_major": 2,
       "version_minor": 0
      },
      "text/plain": [
       "20230809000000-15h-oper-fc.grib2:   0%|          | 0.00/281k [00:00<?, ?B/s]"
      ]
     },
     "metadata": {},
     "output_type": "display_data"
    },
    {
     "data": {
      "application/json": {
       "ascii": false,
       "bar_format": null,
       "colour": null,
       "elapsed": 0.013628721237182617,
       "initial": 0,
       "n": 0,
       "ncols": null,
       "nrows": 25,
       "postfix": null,
       "prefix": "20230809000000-18h-oper-fc.grib2",
       "rate": null,
       "total": 289308,
       "unit": "B",
       "unit_divisor": 1024,
       "unit_scale": true
      },
      "application/vnd.jupyter.widget-view+json": {
       "model_id": "",
       "version_major": 2,
       "version_minor": 0
      },
      "text/plain": [
       "20230809000000-18h-oper-fc.grib2:   0%|          | 0.00/283k [00:00<?, ?B/s]"
      ]
     },
     "metadata": {},
     "output_type": "display_data"
    },
    {
     "data": {
      "application/json": {
       "ascii": false,
       "bar_format": null,
       "colour": null,
       "elapsed": 0.04032540321350098,
       "initial": 0,
       "n": 0,
       "ncols": null,
       "nrows": 25,
       "postfix": null,
       "prefix": "20230809000000-21h-oper-fc.grib2",
       "rate": null,
       "total": 288933,
       "unit": "B",
       "unit_divisor": 1024,
       "unit_scale": true
      },
      "application/vnd.jupyter.widget-view+json": {
       "model_id": "",
       "version_major": 2,
       "version_minor": 0
      },
      "text/plain": [
       "20230809000000-21h-oper-fc.grib2:   0%|          | 0.00/282k [00:00<?, ?B/s]"
      ]
     },
     "metadata": {},
     "output_type": "display_data"
    },
    {
     "data": {
      "application/json": {
       "ascii": false,
       "bar_format": null,
       "colour": null,
       "elapsed": 0.03163337707519531,
       "initial": 0,
       "n": 0,
       "ncols": null,
       "nrows": 25,
       "postfix": null,
       "prefix": "20230809000000-24h-oper-fc.grib2",
       "rate": null,
       "total": 286822,
       "unit": "B",
       "unit_divisor": 1024,
       "unit_scale": true
      },
      "application/vnd.jupyter.widget-view+json": {
       "model_id": "",
       "version_major": 2,
       "version_minor": 0
      },
      "text/plain": [
       "20230809000000-24h-oper-fc.grib2:   0%|          | 0.00/280k [00:00<?, ?B/s]"
      ]
     },
     "metadata": {},
     "output_type": "display_data"
    },
    {
     "data": {
      "application/json": {
       "ascii": false,
       "bar_format": null,
       "colour": null,
       "elapsed": 0.009556770324707031,
       "initial": 0,
       "n": 0,
       "ncols": null,
       "nrows": 25,
       "postfix": null,
       "prefix": "20230809000000-27h-oper-fc.grib2",
       "rate": null,
       "total": 286821,
       "unit": "B",
       "unit_divisor": 1024,
       "unit_scale": true
      },
      "application/vnd.jupyter.widget-view+json": {
       "model_id": "",
       "version_major": 2,
       "version_minor": 0
      },
      "text/plain": [
       "20230809000000-27h-oper-fc.grib2:   0%|          | 0.00/280k [00:00<?, ?B/s]"
      ]
     },
     "metadata": {},
     "output_type": "display_data"
    },
    {
     "data": {
      "application/json": {
       "ascii": false,
       "bar_format": null,
       "colour": null,
       "elapsed": 0.01329946517944336,
       "initial": 0,
       "n": 0,
       "ncols": null,
       "nrows": 25,
       "postfix": null,
       "prefix": "20230809000000-30h-oper-fc.grib2",
       "rate": null,
       "total": 286897,
       "unit": "B",
       "unit_divisor": 1024,
       "unit_scale": true
      },
      "application/vnd.jupyter.widget-view+json": {
       "model_id": "",
       "version_major": 2,
       "version_minor": 0
      },
      "text/plain": [
       "20230809000000-30h-oper-fc.grib2:   0%|          | 0.00/280k [00:00<?, ?B/s]"
      ]
     },
     "metadata": {},
     "output_type": "display_data"
    },
    {
     "data": {
      "application/json": {
       "ascii": false,
       "bar_format": null,
       "colour": null,
       "elapsed": 0.016484737396240234,
       "initial": 0,
       "n": 0,
       "ncols": null,
       "nrows": 25,
       "postfix": null,
       "prefix": "20230809000000-33h-oper-fc.grib2",
       "rate": null,
       "total": 288763,
       "unit": "B",
       "unit_divisor": 1024,
       "unit_scale": true
      },
      "application/vnd.jupyter.widget-view+json": {
       "model_id": "",
       "version_major": 2,
       "version_minor": 0
      },
      "text/plain": [
       "20230809000000-33h-oper-fc.grib2:   0%|          | 0.00/282k [00:00<?, ?B/s]"
      ]
     },
     "metadata": {},
     "output_type": "display_data"
    },
    {
     "data": {
      "application/json": {
       "ascii": false,
       "bar_format": null,
       "colour": null,
       "elapsed": 0.011116266250610352,
       "initial": 0,
       "n": 0,
       "ncols": null,
       "nrows": 25,
       "postfix": null,
       "prefix": "20230809000000-36h-oper-fc.grib2",
       "rate": null,
       "total": 240942,
       "unit": "B",
       "unit_divisor": 1024,
       "unit_scale": true
      },
      "application/vnd.jupyter.widget-view+json": {
       "model_id": "",
       "version_major": 2,
       "version_minor": 0
      },
      "text/plain": [
       "20230809000000-36h-oper-fc.grib2:   0%|          | 0.00/235k [00:00<?, ?B/s]"
      ]
     },
     "metadata": {},
     "output_type": "display_data"
    },
    {
     "data": {
      "application/json": {
       "ascii": false,
       "bar_format": null,
       "colour": null,
       "elapsed": 0.014745712280273438,
       "initial": 0,
       "n": 0,
       "ncols": null,
       "nrows": 25,
       "postfix": null,
       "prefix": "20230809000000-39h-oper-fc.grib2",
       "rate": null,
       "total": 241506,
       "unit": "B",
       "unit_divisor": 1024,
       "unit_scale": true
      },
      "application/vnd.jupyter.widget-view+json": {
       "model_id": "",
       "version_major": 2,
       "version_minor": 0
      },
      "text/plain": [
       "20230809000000-39h-oper-fc.grib2:   0%|          | 0.00/236k [00:00<?, ?B/s]"
      ]
     },
     "metadata": {},
     "output_type": "display_data"
    },
    {
     "data": {
      "application/json": {
       "ascii": false,
       "bar_format": null,
       "colour": null,
       "elapsed": 0.012925148010253906,
       "initial": 0,
       "n": 0,
       "ncols": null,
       "nrows": 25,
       "postfix": null,
       "prefix": "20230809000000-42h-oper-fc.grib2",
       "rate": null,
       "total": 290777,
       "unit": "B",
       "unit_divisor": 1024,
       "unit_scale": true
      },
      "application/vnd.jupyter.widget-view+json": {
       "model_id": "",
       "version_major": 2,
       "version_minor": 0
      },
      "text/plain": [
       "20230809000000-42h-oper-fc.grib2:   0%|          | 0.00/284k [00:00<?, ?B/s]"
      ]
     },
     "metadata": {},
     "output_type": "display_data"
    },
    {
     "data": {
      "application/json": {
       "ascii": false,
       "bar_format": null,
       "colour": null,
       "elapsed": 0.02039361000061035,
       "initial": 0,
       "n": 0,
       "ncols": null,
       "nrows": 25,
       "postfix": null,
       "prefix": "20230809000000-45h-oper-fc.grib2",
       "rate": null,
       "total": 290130,
       "unit": "B",
       "unit_divisor": 1024,
       "unit_scale": true
      },
      "application/vnd.jupyter.widget-view+json": {
       "model_id": "",
       "version_major": 2,
       "version_minor": 0
      },
      "text/plain": [
       "20230809000000-45h-oper-fc.grib2:   0%|          | 0.00/283k [00:00<?, ?B/s]"
      ]
     },
     "metadata": {},
     "output_type": "display_data"
    },
    {
     "data": {
      "application/json": {
       "ascii": false,
       "bar_format": null,
       "colour": null,
       "elapsed": 0.028472185134887695,
       "initial": 0,
       "n": 0,
       "ncols": null,
       "nrows": 25,
       "postfix": null,
       "prefix": "20230809000000-48h-oper-fc.grib2",
       "rate": null,
       "total": 288226,
       "unit": "B",
       "unit_divisor": 1024,
       "unit_scale": true
      },
      "application/vnd.jupyter.widget-view+json": {
       "model_id": "",
       "version_major": 2,
       "version_minor": 0
      },
      "text/plain": [
       "20230809000000-48h-oper-fc.grib2:   0%|          | 0.00/281k [00:00<?, ?B/s]"
      ]
     },
     "metadata": {},
     "output_type": "display_data"
    },
    {
     "data": {
      "application/json": {
       "ascii": false,
       "bar_format": null,
       "colour": null,
       "elapsed": 0.013266801834106445,
       "initial": 0,
       "n": 0,
       "ncols": null,
       "nrows": 25,
       "postfix": null,
       "prefix": "20230809000000-51h-oper-fc.grib2",
       "rate": null,
       "total": 288000,
       "unit": "B",
       "unit_divisor": 1024,
       "unit_scale": true
      },
      "application/vnd.jupyter.widget-view+json": {
       "model_id": "",
       "version_major": 2,
       "version_minor": 0
      },
      "text/plain": [
       "20230809000000-51h-oper-fc.grib2:   0%|          | 0.00/281k [00:00<?, ?B/s]"
      ]
     },
     "metadata": {},
     "output_type": "display_data"
    },
    {
     "data": {
      "application/json": {
       "ascii": false,
       "bar_format": null,
       "colour": null,
       "elapsed": 0.013275384902954102,
       "initial": 0,
       "n": 0,
       "ncols": null,
       "nrows": 25,
       "postfix": null,
       "prefix": "20230809000000-54h-oper-fc.grib2",
       "rate": null,
       "total": 287672,
       "unit": "B",
       "unit_divisor": 1024,
       "unit_scale": true
      },
      "application/vnd.jupyter.widget-view+json": {
       "model_id": "",
       "version_major": 2,
       "version_minor": 0
      },
      "text/plain": [
       "20230809000000-54h-oper-fc.grib2:   0%|          | 0.00/281k [00:00<?, ?B/s]"
      ]
     },
     "metadata": {},
     "output_type": "display_data"
    },
    {
     "data": {
      "application/json": {
       "ascii": false,
       "bar_format": null,
       "colour": null,
       "elapsed": 0.010673284530639648,
       "initial": 0,
       "n": 0,
       "ncols": null,
       "nrows": 25,
       "postfix": null,
       "prefix": "20230809000000-57h-oper-fc.grib2",
       "rate": null,
       "total": 240800,
       "unit": "B",
       "unit_divisor": 1024,
       "unit_scale": true
      },
      "application/vnd.jupyter.widget-view+json": {
       "model_id": "",
       "version_major": 2,
       "version_minor": 0
      },
      "text/plain": [
       "20230809000000-57h-oper-fc.grib2:   0%|          | 0.00/235k [00:00<?, ?B/s]"
      ]
     },
     "metadata": {},
     "output_type": "display_data"
    },
    {
     "data": {
      "application/json": {
       "ascii": false,
       "bar_format": null,
       "colour": null,
       "elapsed": 0.012281417846679688,
       "initial": 0,
       "n": 0,
       "ncols": null,
       "nrows": 25,
       "postfix": null,
       "prefix": "20230809000000-60h-oper-fc.grib2",
       "rate": null,
       "total": 241071,
       "unit": "B",
       "unit_divisor": 1024,
       "unit_scale": true
      },
      "application/vnd.jupyter.widget-view+json": {
       "model_id": "",
       "version_major": 2,
       "version_minor": 0
      },
      "text/plain": [
       "20230809000000-60h-oper-fc.grib2:   0%|          | 0.00/235k [00:00<?, ?B/s]"
      ]
     },
     "metadata": {},
     "output_type": "display_data"
    },
    {
     "data": {
      "application/json": {
       "ascii": false,
       "bar_format": null,
       "colour": null,
       "elapsed": 0.018833637237548828,
       "initial": 0,
       "n": 0,
       "ncols": null,
       "nrows": 25,
       "postfix": null,
       "prefix": "20230809000000-63h-oper-fc.grib2",
       "rate": null,
       "total": 240997,
       "unit": "B",
       "unit_divisor": 1024,
       "unit_scale": true
      },
      "application/vnd.jupyter.widget-view+json": {
       "model_id": "",
       "version_major": 2,
       "version_minor": 0
      },
      "text/plain": [
       "20230809000000-63h-oper-fc.grib2:   0%|          | 0.00/235k [00:00<?, ?B/s]"
      ]
     },
     "metadata": {},
     "output_type": "display_data"
    },
    {
     "data": {
      "application/json": {
       "ascii": false,
       "bar_format": null,
       "colour": null,
       "elapsed": 0.020775318145751953,
       "initial": 0,
       "n": 0,
       "ncols": null,
       "nrows": 25,
       "postfix": null,
       "prefix": "20230809000000-66h-oper-fc.grib2",
       "rate": null,
       "total": 241531,
       "unit": "B",
       "unit_divisor": 1024,
       "unit_scale": true
      },
      "application/vnd.jupyter.widget-view+json": {
       "model_id": "",
       "version_major": 2,
       "version_minor": 0
      },
      "text/plain": [
       "20230809000000-66h-oper-fc.grib2:   0%|          | 0.00/236k [00:00<?, ?B/s]"
      ]
     },
     "metadata": {},
     "output_type": "display_data"
    },
    {
     "data": {
      "application/json": {
       "ascii": false,
       "bar_format": null,
       "colour": null,
       "elapsed": 0.014142036437988281,
       "initial": 0,
       "n": 0,
       "ncols": null,
       "nrows": 25,
       "postfix": null,
       "prefix": "20230809000000-69h-oper-fc.grib2",
       "rate": null,
       "total": 289199,
       "unit": "B",
       "unit_divisor": 1024,
       "unit_scale": true
      },
      "application/vnd.jupyter.widget-view+json": {
       "model_id": "",
       "version_major": 2,
       "version_minor": 0
      },
      "text/plain": [
       "20230809000000-69h-oper-fc.grib2:   0%|          | 0.00/282k [00:00<?, ?B/s]"
      ]
     },
     "metadata": {},
     "output_type": "display_data"
    },
    {
     "data": {
      "application/json": {
       "ascii": false,
       "bar_format": null,
       "colour": null,
       "elapsed": 0.011474609375,
       "initial": 0,
       "n": 0,
       "ncols": null,
       "nrows": 25,
       "postfix": null,
       "prefix": "20230809000000-72h-oper-fc.grib2",
       "rate": null,
       "total": 287005,
       "unit": "B",
       "unit_divisor": 1024,
       "unit_scale": true
      },
      "application/vnd.jupyter.widget-view+json": {
       "model_id": "",
       "version_major": 2,
       "version_minor": 0
      },
      "text/plain": [
       "20230809000000-72h-oper-fc.grib2:   0%|          | 0.00/280k [00:00<?, ?B/s]"
      ]
     },
     "metadata": {},
     "output_type": "display_data"
    },
    {
     "data": {
      "application/json": {
       "ascii": false,
       "bar_format": null,
       "colour": null,
       "elapsed": 0.01635909080505371,
       "initial": 0,
       "n": 0,
       "ncols": null,
       "nrows": 25,
       "postfix": null,
       "prefix": "20230809000000-75h-oper-fc.grib2",
       "rate": null,
       "total": 286512,
       "unit": "B",
       "unit_divisor": 1024,
       "unit_scale": true
      },
      "application/vnd.jupyter.widget-view+json": {
       "model_id": "",
       "version_major": 2,
       "version_minor": 0
      },
      "text/plain": [
       "20230809000000-75h-oper-fc.grib2:   0%|          | 0.00/280k [00:00<?, ?B/s]"
      ]
     },
     "metadata": {},
     "output_type": "display_data"
    },
    {
     "data": {
      "application/json": {
       "ascii": false,
       "bar_format": null,
       "colour": null,
       "elapsed": 0.015737533569335938,
       "initial": 0,
       "n": 0,
       "ncols": null,
       "nrows": 25,
       "postfix": null,
       "prefix": "20230809000000-78h-oper-fc.grib2",
       "rate": null,
       "total": 286473,
       "unit": "B",
       "unit_divisor": 1024,
       "unit_scale": true
      },
      "application/vnd.jupyter.widget-view+json": {
       "model_id": "",
       "version_major": 2,
       "version_minor": 0
      },
      "text/plain": [
       "20230809000000-78h-oper-fc.grib2:   0%|          | 0.00/280k [00:00<?, ?B/s]"
      ]
     },
     "metadata": {},
     "output_type": "display_data"
    },
    {
     "data": {
      "application/json": {
       "ascii": false,
       "bar_format": null,
       "colour": null,
       "elapsed": 0.013768911361694336,
       "initial": 0,
       "n": 0,
       "ncols": null,
       "nrows": 25,
       "postfix": null,
       "prefix": "20230809000000-81h-oper-fc.grib2",
       "rate": null,
       "total": 239501,
       "unit": "B",
       "unit_divisor": 1024,
       "unit_scale": true
      },
      "application/vnd.jupyter.widget-view+json": {
       "model_id": "",
       "version_major": 2,
       "version_minor": 0
      },
      "text/plain": [
       "20230809000000-81h-oper-fc.grib2:   0%|          | 0.00/234k [00:00<?, ?B/s]"
      ]
     },
     "metadata": {},
     "output_type": "display_data"
    },
    {
     "data": {
      "application/json": {
       "ascii": false,
       "bar_format": null,
       "colour": null,
       "elapsed": 0.01320958137512207,
       "initial": 0,
       "n": 0,
       "ncols": null,
       "nrows": 25,
       "postfix": null,
       "prefix": "20230809000000-84h-oper-fc.grib2",
       "rate": null,
       "total": 240217,
       "unit": "B",
       "unit_divisor": 1024,
       "unit_scale": true
      },
      "application/vnd.jupyter.widget-view+json": {
       "model_id": "",
       "version_major": 2,
       "version_minor": 0
      },
      "text/plain": [
       "20230809000000-84h-oper-fc.grib2:   0%|          | 0.00/235k [00:00<?, ?B/s]"
      ]
     },
     "metadata": {},
     "output_type": "display_data"
    },
    {
     "data": {
      "application/json": {
       "ascii": false,
       "bar_format": null,
       "colour": null,
       "elapsed": 0.010801315307617188,
       "initial": 0,
       "n": 0,
       "ncols": null,
       "nrows": 25,
       "postfix": null,
       "prefix": "20230809000000-87h-oper-fc.grib2",
       "rate": null,
       "total": 288981,
       "unit": "B",
       "unit_divisor": 1024,
       "unit_scale": true
      },
      "application/vnd.jupyter.widget-view+json": {
       "model_id": "",
       "version_major": 2,
       "version_minor": 0
      },
      "text/plain": [
       "20230809000000-87h-oper-fc.grib2:   0%|          | 0.00/282k [00:00<?, ?B/s]"
      ]
     },
     "metadata": {},
     "output_type": "display_data"
    },
    {
     "data": {
      "application/json": {
       "ascii": false,
       "bar_format": null,
       "colour": null,
       "elapsed": 0.011436223983764648,
       "initial": 0,
       "n": 0,
       "ncols": null,
       "nrows": 25,
       "postfix": null,
       "prefix": "20230809000000-90h-oper-fc.grib2",
       "rate": null,
       "total": 289753,
       "unit": "B",
       "unit_divisor": 1024,
       "unit_scale": true
      },
      "application/vnd.jupyter.widget-view+json": {
       "model_id": "",
       "version_major": 2,
       "version_minor": 0
      },
      "text/plain": [
       "20230809000000-90h-oper-fc.grib2:   0%|          | 0.00/283k [00:00<?, ?B/s]"
      ]
     },
     "metadata": {},
     "output_type": "display_data"
    },
    {
     "data": {
      "application/json": {
       "ascii": false,
       "bar_format": null,
       "colour": null,
       "elapsed": 0.0144805908203125,
       "initial": 0,
       "n": 0,
       "ncols": null,
       "nrows": 25,
       "postfix": null,
       "prefix": "20230809000000-93h-oper-fc.grib2",
       "rate": null,
       "total": 288998,
       "unit": "B",
       "unit_divisor": 1024,
       "unit_scale": true
      },
      "application/vnd.jupyter.widget-view+json": {
       "model_id": "",
       "version_major": 2,
       "version_minor": 0
      },
      "text/plain": [
       "20230809000000-93h-oper-fc.grib2:   0%|          | 0.00/282k [00:00<?, ?B/s]"
      ]
     },
     "metadata": {},
     "output_type": "display_data"
    },
    {
     "data": {
      "application/json": {
       "ascii": false,
       "bar_format": null,
       "colour": null,
       "elapsed": 0.013574600219726562,
       "initial": 0,
       "n": 0,
       "ncols": null,
       "nrows": 25,
       "postfix": null,
       "prefix": "20230809000000-96h-oper-fc.grib2",
       "rate": null,
       "total": 287108,
       "unit": "B",
       "unit_divisor": 1024,
       "unit_scale": true
      },
      "application/vnd.jupyter.widget-view+json": {
       "model_id": "",
       "version_major": 2,
       "version_minor": 0
      },
      "text/plain": [
       "20230809000000-96h-oper-fc.grib2:   0%|          | 0.00/280k [00:00<?, ?B/s]"
      ]
     },
     "metadata": {},
     "output_type": "display_data"
    },
    {
     "data": {
      "application/json": {
       "ascii": false,
       "bar_format": null,
       "colour": null,
       "elapsed": 0.01583385467529297,
       "initial": 0,
       "n": 0,
       "ncols": null,
       "nrows": 25,
       "postfix": null,
       "prefix": "20230809000000-99h-oper-fc.grib2",
       "rate": null,
       "total": 286674,
       "unit": "B",
       "unit_divisor": 1024,
       "unit_scale": true
      },
      "application/vnd.jupyter.widget-view+json": {
       "model_id": "",
       "version_major": 2,
       "version_minor": 0
      },
      "text/plain": [
       "20230809000000-99h-oper-fc.grib2:   0%|          | 0.00/280k [00:00<?, ?B/s]"
      ]
     },
     "metadata": {},
     "output_type": "display_data"
    },
    {
     "data": {
      "application/json": {
       "ascii": false,
       "bar_format": null,
       "colour": null,
       "elapsed": 0.014118671417236328,
       "initial": 0,
       "n": 0,
       "ncols": null,
       "nrows": 25,
       "postfix": null,
       "prefix": "20230809000000-102h-oper-fc.grib2",
       "rate": null,
       "total": 286942,
       "unit": "B",
       "unit_divisor": 1024,
       "unit_scale": true
      },
      "application/vnd.jupyter.widget-view+json": {
       "model_id": "",
       "version_major": 2,
       "version_minor": 0
      },
      "text/plain": [
       "20230809000000-102h-oper-fc.grib2:   0%|          | 0.00/280k [00:00<?, ?B/s]"
      ]
     },
     "metadata": {},
     "output_type": "display_data"
    },
    {
     "data": {
      "application/json": {
       "ascii": false,
       "bar_format": null,
       "colour": null,
       "elapsed": 0.01304483413696289,
       "initial": 0,
       "n": 0,
       "ncols": null,
       "nrows": 25,
       "postfix": null,
       "prefix": "20230809000000-105h-oper-fc.grib2",
       "rate": null,
       "total": 239946,
       "unit": "B",
       "unit_divisor": 1024,
       "unit_scale": true
      },
      "application/vnd.jupyter.widget-view+json": {
       "model_id": "",
       "version_major": 2,
       "version_minor": 0
      },
      "text/plain": [
       "20230809000000-105h-oper-fc.grib2:   0%|          | 0.00/234k [00:00<?, ?B/s]"
      ]
     },
     "metadata": {},
     "output_type": "display_data"
    },
    {
     "data": {
      "application/json": {
       "ascii": false,
       "bar_format": null,
       "colour": null,
       "elapsed": 0.012494325637817383,
       "initial": 0,
       "n": 0,
       "ncols": null,
       "nrows": 25,
       "postfix": null,
       "prefix": "20230809000000-108h-oper-fc.grib2",
       "rate": null,
       "total": 240563,
       "unit": "B",
       "unit_divisor": 1024,
       "unit_scale": true
      },
      "application/vnd.jupyter.widget-view+json": {
       "model_id": "",
       "version_major": 2,
       "version_minor": 0
      },
      "text/plain": [
       "20230809000000-108h-oper-fc.grib2:   0%|          | 0.00/235k [00:00<?, ?B/s]"
      ]
     },
     "metadata": {},
     "output_type": "display_data"
    },
    {
     "data": {
      "application/json": {
       "ascii": false,
       "bar_format": null,
       "colour": null,
       "elapsed": 0.010610342025756836,
       "initial": 0,
       "n": 0,
       "ncols": null,
       "nrows": 25,
       "postfix": null,
       "prefix": "20230809000000-111h-oper-fc.grib2",
       "rate": null,
       "total": 240856,
       "unit": "B",
       "unit_divisor": 1024,
       "unit_scale": true
      },
      "application/vnd.jupyter.widget-view+json": {
       "model_id": "",
       "version_major": 2,
       "version_minor": 0
      },
      "text/plain": [
       "20230809000000-111h-oper-fc.grib2:   0%|          | 0.00/235k [00:00<?, ?B/s]"
      ]
     },
     "metadata": {},
     "output_type": "display_data"
    },
    {
     "data": {
      "application/json": {
       "ascii": false,
       "bar_format": null,
       "colour": null,
       "elapsed": 0.01244211196899414,
       "initial": 0,
       "n": 0,
       "ncols": null,
       "nrows": 25,
       "postfix": null,
       "prefix": "20230809000000-114h-oper-fc.grib2",
       "rate": null,
       "total": 289961,
       "unit": "B",
       "unit_divisor": 1024,
       "unit_scale": true
      },
      "application/vnd.jupyter.widget-view+json": {
       "model_id": "",
       "version_major": 2,
       "version_minor": 0
      },
      "text/plain": [
       "20230809000000-114h-oper-fc.grib2:   0%|          | 0.00/283k [00:00<?, ?B/s]"
      ]
     },
     "metadata": {},
     "output_type": "display_data"
    },
    {
     "data": {
      "application/json": {
       "ascii": false,
       "bar_format": null,
       "colour": null,
       "elapsed": 0.009739160537719727,
       "initial": 0,
       "n": 0,
       "ncols": null,
       "nrows": 25,
       "postfix": null,
       "prefix": "20230809000000-117h-oper-fc.grib2",
       "rate": null,
       "total": 289364,
       "unit": "B",
       "unit_divisor": 1024,
       "unit_scale": true
      },
      "application/vnd.jupyter.widget-view+json": {
       "model_id": "",
       "version_major": 2,
       "version_minor": 0
      },
      "text/plain": [
       "20230809000000-117h-oper-fc.grib2:   0%|          | 0.00/283k [00:00<?, ?B/s]"
      ]
     },
     "metadata": {},
     "output_type": "display_data"
    },
    {
     "data": {
      "application/json": {
       "ascii": false,
       "bar_format": null,
       "colour": null,
       "elapsed": 0.011297225952148438,
       "initial": 0,
       "n": 0,
       "ncols": null,
       "nrows": 25,
       "postfix": null,
       "prefix": "20230809000000-120h-oper-fc.grib2",
       "rate": null,
       "total": 287234,
       "unit": "B",
       "unit_divisor": 1024,
       "unit_scale": true
      },
      "application/vnd.jupyter.widget-view+json": {
       "model_id": "",
       "version_major": 2,
       "version_minor": 0
      },
      "text/plain": [
       "20230809000000-120h-oper-fc.grib2:   0%|          | 0.00/281k [00:00<?, ?B/s]"
      ]
     },
     "metadata": {},
     "output_type": "display_data"
    },
    {
     "data": {
      "application/json": {
       "ascii": false,
       "bar_format": null,
       "colour": null,
       "elapsed": 0.01200556755065918,
       "initial": 0,
       "n": 0,
       "ncols": null,
       "nrows": 25,
       "postfix": null,
       "prefix": "20230809000000-123h-oper-fc.grib2",
       "rate": null,
       "total": 286299,
       "unit": "B",
       "unit_divisor": 1024,
       "unit_scale": true
      },
      "application/vnd.jupyter.widget-view+json": {
       "model_id": "",
       "version_major": 2,
       "version_minor": 0
      },
      "text/plain": [
       "20230809000000-123h-oper-fc.grib2:   0%|          | 0.00/280k [00:00<?, ?B/s]"
      ]
     },
     "metadata": {},
     "output_type": "display_data"
    },
    {
     "data": {
      "application/json": {
       "ascii": false,
       "bar_format": null,
       "colour": null,
       "elapsed": 0.019701480865478516,
       "initial": 0,
       "n": 0,
       "ncols": null,
       "nrows": 25,
       "postfix": null,
       "prefix": "20230809000000-126h-oper-fc.grib2",
       "rate": null,
       "total": 286098,
       "unit": "B",
       "unit_divisor": 1024,
       "unit_scale": true
      },
      "application/vnd.jupyter.widget-view+json": {
       "model_id": "",
       "version_major": 2,
       "version_minor": 0
      },
      "text/plain": [
       "20230809000000-126h-oper-fc.grib2:   0%|          | 0.00/279k [00:00<?, ?B/s]"
      ]
     },
     "metadata": {},
     "output_type": "display_data"
    },
    {
     "data": {
      "application/json": {
       "ascii": false,
       "bar_format": null,
       "colour": null,
       "elapsed": 0.020637035369873047,
       "initial": 0,
       "n": 0,
       "ncols": null,
       "nrows": 25,
       "postfix": null,
       "prefix": "20230809000000-129h-oper-fc.grib2",
       "rate": null,
       "total": 287461,
       "unit": "B",
       "unit_divisor": 1024,
       "unit_scale": true
      },
      "application/vnd.jupyter.widget-view+json": {
       "model_id": "",
       "version_major": 2,
       "version_minor": 0
      },
      "text/plain": [
       "20230809000000-129h-oper-fc.grib2:   0%|          | 0.00/281k [00:00<?, ?B/s]"
      ]
     },
     "metadata": {},
     "output_type": "display_data"
    },
    {
     "data": {
      "application/json": {
       "ascii": false,
       "bar_format": null,
       "colour": null,
       "elapsed": 0.014560699462890625,
       "initial": 0,
       "n": 0,
       "ncols": null,
       "nrows": 25,
       "postfix": null,
       "prefix": "20230809000000-132h-oper-fc.grib2",
       "rate": null,
       "total": 287872,
       "unit": "B",
       "unit_divisor": 1024,
       "unit_scale": true
      },
      "application/vnd.jupyter.widget-view+json": {
       "model_id": "",
       "version_major": 2,
       "version_minor": 0
      },
      "text/plain": [
       "20230809000000-132h-oper-fc.grib2:   0%|          | 0.00/281k [00:00<?, ?B/s]"
      ]
     },
     "metadata": {},
     "output_type": "display_data"
    },
    {
     "data": {
      "application/json": {
       "ascii": false,
       "bar_format": null,
       "colour": null,
       "elapsed": 0.09683394432067871,
       "initial": 0,
       "n": 0,
       "ncols": null,
       "nrows": 25,
       "postfix": null,
       "prefix": "20230809000000-135h-oper-fc.grib2",
       "rate": null,
       "total": 288233,
       "unit": "B",
       "unit_divisor": 1024,
       "unit_scale": true
      },
      "application/vnd.jupyter.widget-view+json": {
       "model_id": "",
       "version_major": 2,
       "version_minor": 0
      },
      "text/plain": [
       "20230809000000-135h-oper-fc.grib2:   0%|          | 0.00/281k [00:00<?, ?B/s]"
      ]
     },
     "metadata": {},
     "output_type": "display_data"
    },
    {
     "data": {
      "application/json": {
       "ascii": false,
       "bar_format": null,
       "colour": null,
       "elapsed": 0.02402043342590332,
       "initial": 0,
       "n": 0,
       "ncols": null,
       "nrows": 25,
       "postfix": null,
       "prefix": "20230809000000-138h-oper-fc.grib2",
       "rate": null,
       "total": 288575,
       "unit": "B",
       "unit_divisor": 1024,
       "unit_scale": true
      },
      "application/vnd.jupyter.widget-view+json": {
       "model_id": "",
       "version_major": 2,
       "version_minor": 0
      },
      "text/plain": [
       "20230809000000-138h-oper-fc.grib2:   0%|          | 0.00/282k [00:00<?, ?B/s]"
      ]
     },
     "metadata": {},
     "output_type": "display_data"
    },
    {
     "data": {
      "application/json": {
       "ascii": false,
       "bar_format": null,
       "colour": null,
       "elapsed": 0.009634017944335938,
       "initial": 0,
       "n": 0,
       "ncols": null,
       "nrows": 25,
       "postfix": null,
       "prefix": "20230809000000-141h-oper-fc.grib2",
       "rate": null,
       "total": 288434,
       "unit": "B",
       "unit_divisor": 1024,
       "unit_scale": true
      },
      "application/vnd.jupyter.widget-view+json": {
       "model_id": "",
       "version_major": 2,
       "version_minor": 0
      },
      "text/plain": [
       "20230809000000-141h-oper-fc.grib2:   0%|          | 0.00/282k [00:00<?, ?B/s]"
      ]
     },
     "metadata": {},
     "output_type": "display_data"
    },
    {
     "data": {
      "application/json": {
       "ascii": false,
       "bar_format": null,
       "colour": null,
       "elapsed": 0.013824701309204102,
       "initial": 0,
       "n": 0,
       "ncols": null,
       "nrows": 25,
       "postfix": null,
       "prefix": "20230809000000-144h-oper-fc.grib2",
       "rate": null,
       "total": 285998,
       "unit": "B",
       "unit_divisor": 1024,
       "unit_scale": true
      },
      "application/vnd.jupyter.widget-view+json": {
       "model_id": "",
       "version_major": 2,
       "version_minor": 0
      },
      "text/plain": [
       "20230809000000-144h-oper-fc.grib2:   0%|          | 0.00/279k [00:00<?, ?B/s]"
      ]
     },
     "metadata": {},
     "output_type": "display_data"
    },
    {
     "data": {
      "application/json": {
       "ascii": false,
       "bar_format": null,
       "colour": null,
       "elapsed": 0.04142618179321289,
       "initial": 0,
       "n": 0,
       "ncols": null,
       "nrows": 25,
       "postfix": null,
       "prefix": "20230809000000-150h-oper-fc.grib2",
       "rate": null,
       "total": 285440,
       "unit": "B",
       "unit_divisor": 1024,
       "unit_scale": true
      },
      "application/vnd.jupyter.widget-view+json": {
       "model_id": "",
       "version_major": 2,
       "version_minor": 0
      },
      "text/plain": [
       "20230809000000-150h-oper-fc.grib2:   0%|          | 0.00/279k [00:00<?, ?B/s]"
      ]
     },
     "metadata": {},
     "output_type": "display_data"
    },
    {
     "data": {
      "application/json": {
       "ascii": false,
       "bar_format": null,
       "colour": null,
       "elapsed": 0.03114795684814453,
       "initial": 0,
       "n": 0,
       "ncols": null,
       "nrows": 25,
       "postfix": null,
       "prefix": "20230809000000-156h-oper-fc.grib2",
       "rate": null,
       "total": 287863,
       "unit": "B",
       "unit_divisor": 1024,
       "unit_scale": true
      },
      "application/vnd.jupyter.widget-view+json": {
       "model_id": "",
       "version_major": 2,
       "version_minor": 0
      },
      "text/plain": [
       "20230809000000-156h-oper-fc.grib2:   0%|          | 0.00/281k [00:00<?, ?B/s]"
      ]
     },
     "metadata": {},
     "output_type": "display_data"
    },
    {
     "data": {
      "application/json": {
       "ascii": false,
       "bar_format": null,
       "colour": null,
       "elapsed": 0.01668858528137207,
       "initial": 0,
       "n": 0,
       "ncols": null,
       "nrows": 25,
       "postfix": null,
       "prefix": "20230809000000-162h-oper-fc.grib2",
       "rate": null,
       "total": 288990,
       "unit": "B",
       "unit_divisor": 1024,
       "unit_scale": true
      },
      "application/vnd.jupyter.widget-view+json": {
       "model_id": "",
       "version_major": 2,
       "version_minor": 0
      },
      "text/plain": [
       "20230809000000-162h-oper-fc.grib2:   0%|          | 0.00/282k [00:00<?, ?B/s]"
      ]
     },
     "metadata": {},
     "output_type": "display_data"
    },
    {
     "data": {
      "application/json": {
       "ascii": false,
       "bar_format": null,
       "colour": null,
       "elapsed": 0.008826017379760742,
       "initial": 0,
       "n": 0,
       "ncols": null,
       "nrows": 25,
       "postfix": null,
       "prefix": "20230809000000-168h-oper-fc.grib2",
       "rate": null,
       "total": 286060,
       "unit": "B",
       "unit_divisor": 1024,
       "unit_scale": true
      },
      "application/vnd.jupyter.widget-view+json": {
       "model_id": "",
       "version_major": 2,
       "version_minor": 0
      },
      "text/plain": [
       "20230809000000-168h-oper-fc.grib2:   0%|          | 0.00/279k [00:00<?, ?B/s]"
      ]
     },
     "metadata": {},
     "output_type": "display_data"
    },
    {
     "data": {
      "application/json": {
       "ascii": false,
       "bar_format": null,
       "colour": null,
       "elapsed": 0.012627601623535156,
       "initial": 0,
       "n": 0,
       "ncols": null,
       "nrows": 25,
       "postfix": null,
       "prefix": "20230809000000-174h-oper-fc.grib2",
       "rate": null,
       "total": 285679,
       "unit": "B",
       "unit_divisor": 1024,
       "unit_scale": true
      },
      "application/vnd.jupyter.widget-view+json": {
       "model_id": "",
       "version_major": 2,
       "version_minor": 0
      },
      "text/plain": [
       "20230809000000-174h-oper-fc.grib2:   0%|          | 0.00/279k [00:00<?, ?B/s]"
      ]
     },
     "metadata": {},
     "output_type": "display_data"
    },
    {
     "data": {
      "application/json": {
       "ascii": false,
       "bar_format": null,
       "colour": null,
       "elapsed": 0.011005163192749023,
       "initial": 0,
       "n": 0,
       "ncols": null,
       "nrows": 25,
       "postfix": null,
       "prefix": "20230809000000-180h-oper-fc.grib2",
       "rate": null,
       "total": 239292,
       "unit": "B",
       "unit_divisor": 1024,
       "unit_scale": true
      },
      "application/vnd.jupyter.widget-view+json": {
       "model_id": "",
       "version_major": 2,
       "version_minor": 0
      },
      "text/plain": [
       "20230809000000-180h-oper-fc.grib2:   0%|          | 0.00/234k [00:00<?, ?B/s]"
      ]
     },
     "metadata": {},
     "output_type": "display_data"
    },
    {
     "data": {
      "application/json": {
       "ascii": false,
       "bar_format": null,
       "colour": null,
       "elapsed": 0.009656667709350586,
       "initial": 0,
       "n": 0,
       "ncols": null,
       "nrows": 25,
       "postfix": null,
       "prefix": "20230809000000-186h-oper-fc.grib2",
       "rate": null,
       "total": 289159,
       "unit": "B",
       "unit_divisor": 1024,
       "unit_scale": true
      },
      "application/vnd.jupyter.widget-view+json": {
       "model_id": "",
       "version_major": 2,
       "version_minor": 0
      },
      "text/plain": [
       "20230809000000-186h-oper-fc.grib2:   0%|          | 0.00/282k [00:00<?, ?B/s]"
      ]
     },
     "metadata": {},
     "output_type": "display_data"
    },
    {
     "data": {
      "application/json": {
       "ascii": false,
       "bar_format": null,
       "colour": null,
       "elapsed": 0.022654294967651367,
       "initial": 0,
       "n": 0,
       "ncols": null,
       "nrows": 25,
       "postfix": null,
       "prefix": "20230809000000-192h-oper-fc.grib2",
       "rate": null,
       "total": 286693,
       "unit": "B",
       "unit_divisor": 1024,
       "unit_scale": true
      },
      "application/vnd.jupyter.widget-view+json": {
       "model_id": "",
       "version_major": 2,
       "version_minor": 0
      },
      "text/plain": [
       "20230809000000-192h-oper-fc.grib2:   0%|          | 0.00/280k [00:00<?, ?B/s]"
      ]
     },
     "metadata": {},
     "output_type": "display_data"
    },
    {
     "data": {
      "application/json": {
       "ascii": false,
       "bar_format": null,
       "colour": null,
       "elapsed": 0.0145721435546875,
       "initial": 0,
       "n": 0,
       "ncols": null,
       "nrows": 25,
       "postfix": null,
       "prefix": "20230809000000-198h-oper-fc.grib2",
       "rate": null,
       "total": 286453,
       "unit": "B",
       "unit_divisor": 1024,
       "unit_scale": true
      },
      "application/vnd.jupyter.widget-view+json": {
       "model_id": "",
       "version_major": 2,
       "version_minor": 0
      },
      "text/plain": [
       "20230809000000-198h-oper-fc.grib2:   0%|          | 0.00/280k [00:00<?, ?B/s]"
      ]
     },
     "metadata": {},
     "output_type": "display_data"
    },
    {
     "data": {
      "application/json": {
       "ascii": false,
       "bar_format": null,
       "colour": null,
       "elapsed": 0.009051799774169922,
       "initial": 0,
       "n": 0,
       "ncols": null,
       "nrows": 25,
       "postfix": null,
       "prefix": "20230809000000-204h-oper-fc.grib2",
       "rate": null,
       "total": 240046,
       "unit": "B",
       "unit_divisor": 1024,
       "unit_scale": true
      },
      "application/vnd.jupyter.widget-view+json": {
       "model_id": "",
       "version_major": 2,
       "version_minor": 0
      },
      "text/plain": [
       "20230809000000-204h-oper-fc.grib2:   0%|          | 0.00/234k [00:00<?, ?B/s]"
      ]
     },
     "metadata": {},
     "output_type": "display_data"
    },
    {
     "data": {
      "application/json": {
       "ascii": false,
       "bar_format": null,
       "colour": null,
       "elapsed": 0.012336969375610352,
       "initial": 0,
       "n": 0,
       "ncols": null,
       "nrows": 25,
       "postfix": null,
       "prefix": "20230809000000-210h-oper-fc.grib2",
       "rate": null,
       "total": 288959,
       "unit": "B",
       "unit_divisor": 1024,
       "unit_scale": true
      },
      "application/vnd.jupyter.widget-view+json": {
       "model_id": "",
       "version_major": 2,
       "version_minor": 0
      },
      "text/plain": [
       "20230809000000-210h-oper-fc.grib2:   0%|          | 0.00/282k [00:00<?, ?B/s]"
      ]
     },
     "metadata": {},
     "output_type": "display_data"
    },
    {
     "data": {
      "application/json": {
       "ascii": false,
       "bar_format": null,
       "colour": null,
       "elapsed": 0.013424396514892578,
       "initial": 0,
       "n": 0,
       "ncols": null,
       "nrows": 25,
       "postfix": null,
       "prefix": "20230809000000-216h-oper-fc.grib2",
       "rate": null,
       "total": 237576,
       "unit": "B",
       "unit_divisor": 1024,
       "unit_scale": true
      },
      "application/vnd.jupyter.widget-view+json": {
       "model_id": "",
       "version_major": 2,
       "version_minor": 0
      },
      "text/plain": [
       "20230809000000-216h-oper-fc.grib2:   0%|          | 0.00/232k [00:00<?, ?B/s]"
      ]
     },
     "metadata": {},
     "output_type": "display_data"
    },
    {
     "data": {
      "application/json": {
       "ascii": false,
       "bar_format": null,
       "colour": null,
       "elapsed": 0.013142585754394531,
       "initial": 0,
       "n": 0,
       "ncols": null,
       "nrows": 25,
       "postfix": null,
       "prefix": "20230809000000-222h-oper-fc.grib2",
       "rate": null,
       "total": 285721,
       "unit": "B",
       "unit_divisor": 1024,
       "unit_scale": true
      },
      "application/vnd.jupyter.widget-view+json": {
       "model_id": "",
       "version_major": 2,
       "version_minor": 0
      },
      "text/plain": [
       "20230809000000-222h-oper-fc.grib2:   0%|          | 0.00/279k [00:00<?, ?B/s]"
      ]
     },
     "metadata": {},
     "output_type": "display_data"
    },
    {
     "data": {
      "application/json": {
       "ascii": false,
       "bar_format": null,
       "colour": null,
       "elapsed": 0.014362096786499023,
       "initial": 0,
       "n": 0,
       "ncols": null,
       "nrows": 25,
       "postfix": null,
       "prefix": "20230809000000-228h-oper-fc.grib2",
       "rate": null,
       "total": 239297,
       "unit": "B",
       "unit_divisor": 1024,
       "unit_scale": true
      },
      "application/vnd.jupyter.widget-view+json": {
       "model_id": "",
       "version_major": 2,
       "version_minor": 0
      },
      "text/plain": [
       "20230809000000-228h-oper-fc.grib2:   0%|          | 0.00/234k [00:00<?, ?B/s]"
      ]
     },
     "metadata": {},
     "output_type": "display_data"
    },
    {
     "data": {
      "application/json": {
       "ascii": false,
       "bar_format": null,
       "colour": null,
       "elapsed": 0.021600008010864258,
       "initial": 0,
       "n": 0,
       "ncols": null,
       "nrows": 25,
       "postfix": null,
       "prefix": "20230809000000-234h-oper-fc.grib2",
       "rate": null,
       "total": 288610,
       "unit": "B",
       "unit_divisor": 1024,
       "unit_scale": true
      },
      "application/vnd.jupyter.widget-view+json": {
       "model_id": "",
       "version_major": 2,
       "version_minor": 0
      },
      "text/plain": [
       "20230809000000-234h-oper-fc.grib2:   0%|          | 0.00/282k [00:00<?, ?B/s]"
      ]
     },
     "metadata": {},
     "output_type": "display_data"
    },
    {
     "data": {
      "application/json": {
       "ascii": false,
       "bar_format": null,
       "colour": null,
       "elapsed": 0.03260636329650879,
       "initial": 0,
       "n": 0,
       "ncols": null,
       "nrows": 25,
       "postfix": null,
       "prefix": "20230809000000-240h-oper-fc.grib2",
       "rate": null,
       "total": 286305,
       "unit": "B",
       "unit_divisor": 1024,
       "unit_scale": true
      },
      "application/vnd.jupyter.widget-view+json": {
       "model_id": "",
       "version_major": 2,
       "version_minor": 0
      },
      "text/plain": [
       "20230809000000-240h-oper-fc.grib2:   0%|          | 0.00/280k [00:00<?, ?B/s]"
      ]
     },
     "metadata": {},
     "output_type": "display_data"
    }
   ],
   "source": [
    "client = Client(\"ecmwf\", beta=True)\n",
    "parameters = ['2t']\n",
    "# temporary output\n",
    "output_filename = '2t.grib'\n",
    "# where to store the averages (in a single file for each base_date) for the forecast\n",
    "averages_data_folder = 'data'\n",
    "\n",
    "## ONLY USE t = 0 or t = 12\n",
    "# d can be 0 (today), or past day forecasts (-1 or -2 or -3)\n",
    "d = 0\n",
    "t = 0\n",
    "averages = retrieve_all_steps_2t(d, t)\n",
    "# store the data for use later\n",
    "write_averages(averages_data_folder, averages)"
   ]
  },
  {
   "cell_type": "code",
   "execution_count": null,
   "id": "1749c3b2",
   "metadata": {},
   "outputs": [],
   "source": []
  },
  {
   "cell_type": "code",
   "execution_count": 10,
   "id": "4ed2ac8e",
   "metadata": {},
   "outputs": [
    {
     "name": "stdout",
     "output_type": "stream",
     "text": [
      "-- Processing data/20230805_00\n",
      "Global 2m temp average (C) for 20230805:  8.712 (day over day delta:  0.000)\n",
      "Global 2m temp average (C) for 20230806:  8.561 (day over day delta: -0.151)\n",
      "Global 2m temp average (C) for 20230807:  8.420 (day over day delta: -0.141)\n",
      "Global 2m temp average (C) for 20230808:  8.350 (day over day delta: -0.070)\n",
      "Global 2m temp average (C) for 20230809:  8.276 (day over day delta: -0.074)\n",
      "Global 2m temp average (C) for 20230810:  8.126 (day over day delta: -0.150)\n",
      "Global 2m temp average (C) for 20230811:  8.004 (day over day delta: -0.122)\n",
      "Global 2m temp average (C) for 20230812:  7.941 (day over day delta: -0.063)\n",
      "Global 2m temp average (C) for 20230813:  8.006 (day over day delta:  0.065)\n",
      "Global 2m temp average (C) for 20230814:  8.193 (day over day delta:  0.187)\n",
      "-- Processing data/20230805_12\n",
      "Global 2m temp average (C) for 20230805:  8.777 (day over day delta:  0.000)\n",
      "Global 2m temp average (C) for 20230806:  8.561 (day over day delta: -0.216)\n",
      "Global 2m temp average (C) for 20230807:  8.432 (day over day delta: -0.129)\n",
      "Global 2m temp average (C) for 20230808:  8.362 (day over day delta: -0.070)\n",
      "Global 2m temp average (C) for 20230809:  8.229 (day over day delta: -0.132)\n",
      "Global 2m temp average (C) for 20230810:  8.015 (day over day delta: -0.214)\n",
      "Global 2m temp average (C) for 20230811:  7.889 (day over day delta: -0.127)\n",
      "Global 2m temp average (C) for 20230812:  7.814 (day over day delta: -0.075)\n",
      "Global 2m temp average (C) for 20230813:  7.915 (day over day delta:  0.102)\n",
      "Global 2m temp average (C) for 20230814:  8.237 (day over day delta:  0.321)\n",
      "-- Processing data/20230806_00\n",
      "Global 2m temp average (C) for 20230806:  8.553 (day over day delta:  0.000)\n",
      "Global 2m temp average (C) for 20230807:  8.407 (day over day delta: -0.146)\n",
      "Global 2m temp average (C) for 20230808:  8.307 (day over day delta: -0.099)\n",
      "Global 2m temp average (C) for 20230809:  8.136 (day over day delta: -0.171)\n",
      "Global 2m temp average (C) for 20230810:  7.988 (day over day delta: -0.148)\n",
      "Global 2m temp average (C) for 20230811:  7.870 (day over day delta: -0.118)\n",
      "Global 2m temp average (C) for 20230812:  7.836 (day over day delta: -0.034)\n",
      "Global 2m temp average (C) for 20230813:  7.734 (day over day delta: -0.102)\n",
      "Global 2m temp average (C) for 20230814:  7.789 (day over day delta:  0.055)\n",
      "Global 2m temp average (C) for 20230815:  7.937 (day over day delta:  0.148)\n",
      "-- Processing data/20230806_12\n",
      "Global 2m temp average (C) for 20230806:  8.606 (day over day delta:  0.000)\n",
      "Global 2m temp average (C) for 20230807:  8.404 (day over day delta: -0.202)\n",
      "Global 2m temp average (C) for 20230808:  8.279 (day over day delta: -0.125)\n",
      "Global 2m temp average (C) for 20230809:  8.101 (day over day delta: -0.178)\n",
      "Global 2m temp average (C) for 20230810:  7.949 (day over day delta: -0.153)\n",
      "Global 2m temp average (C) for 20230811:  7.773 (day over day delta: -0.175)\n",
      "Global 2m temp average (C) for 20230812:  7.631 (day over day delta: -0.142)\n",
      "Global 2m temp average (C) for 20230813:  7.705 (day over day delta:  0.074)\n",
      "Global 2m temp average (C) for 20230814:  7.763 (day over day delta:  0.058)\n",
      "Global 2m temp average (C) for 20230815:  7.739 (day over day delta: -0.024)\n",
      "-- Processing data/20230807_00\n",
      "Global 2m temp average (C) for 20230807:  8.361 (day over day delta:  0.000)\n",
      "Global 2m temp average (C) for 20230808:  8.224 (day over day delta: -0.137)\n",
      "Global 2m temp average (C) for 20230809:  8.056 (day over day delta: -0.168)\n",
      "Global 2m temp average (C) for 20230810:  7.914 (day over day delta: -0.142)\n",
      "Global 2m temp average (C) for 20230811:  7.749 (day over day delta: -0.165)\n",
      "Global 2m temp average (C) for 20230812:  7.668 (day over day delta: -0.082)\n",
      "Global 2m temp average (C) for 20230813:  7.802 (day over day delta:  0.134)\n",
      "Global 2m temp average (C) for 20230814:  8.125 (day over day delta:  0.324)\n",
      "Global 2m temp average (C) for 20230815:  8.273 (day over day delta:  0.148)\n",
      "Global 2m temp average (C) for 20230816:  8.200 (day over day delta: -0.073)\n",
      "-- Processing data/20230807_12\n",
      "Global 2m temp average (C) for 20230807:  8.412 (day over day delta:  0.000)\n",
      "Global 2m temp average (C) for 20230808:  8.220 (day over day delta: -0.193)\n",
      "Global 2m temp average (C) for 20230809:  8.036 (day over day delta: -0.184)\n",
      "Global 2m temp average (C) for 20230810:  7.926 (day over day delta: -0.110)\n",
      "Global 2m temp average (C) for 20230811:  7.801 (day over day delta: -0.124)\n",
      "Global 2m temp average (C) for 20230812:  7.686 (day over day delta: -0.115)\n",
      "Global 2m temp average (C) for 20230813:  7.877 (day over day delta:  0.191)\n",
      "Global 2m temp average (C) for 20230814:  8.097 (day over day delta:  0.220)\n",
      "Global 2m temp average (C) for 20230815:  8.000 (day over day delta: -0.097)\n",
      "Global 2m temp average (C) for 20230816:  8.152 (day over day delta:  0.152)\n",
      "-- Processing data/20230808_00\n",
      "Global 2m temp average (C) for 20230808:  8.206 (day over day delta:  0.000)\n",
      "Global 2m temp average (C) for 20230809:  8.023 (day over day delta: -0.182)\n",
      "Global 2m temp average (C) for 20230810:  7.931 (day over day delta: -0.092)\n",
      "Global 2m temp average (C) for 20230811:  7.784 (day over day delta: -0.147)\n",
      "Global 2m temp average (C) for 20230812:  7.615 (day over day delta: -0.169)\n",
      "Global 2m temp average (C) for 20230813:  7.802 (day over day delta:  0.188)\n",
      "Global 2m temp average (C) for 20230814:  7.928 (day over day delta:  0.126)\n",
      "Global 2m temp average (C) for 20230815:  7.770 (day over day delta: -0.158)\n",
      "Global 2m temp average (C) for 20230816:  7.677 (day over day delta: -0.093)\n",
      "Global 2m temp average (C) for 20230817:  7.636 (day over day delta: -0.041)\n",
      "-- Processing data/20230808_12\n",
      "Global 2m temp average (C) for 20230808:  8.238 (day over day delta:  0.000)\n",
      "Global 2m temp average (C) for 20230809:  8.032 (day over day delta: -0.207)\n",
      "Global 2m temp average (C) for 20230810:  7.944 (day over day delta: -0.088)\n",
      "Global 2m temp average (C) for 20230811:  7.804 (day over day delta: -0.140)\n",
      "Global 2m temp average (C) for 20230812:  7.708 (day over day delta: -0.095)\n",
      "Global 2m temp average (C) for 20230813:  7.835 (day over day delta:  0.127)\n",
      "Global 2m temp average (C) for 20230814:  7.832 (day over day delta: -0.003)\n",
      "Global 2m temp average (C) for 20230815:  7.959 (day over day delta:  0.127)\n",
      "Global 2m temp average (C) for 20230816:  8.346 (day over day delta:  0.387)\n",
      "Global 2m temp average (C) for 20230817:  8.529 (day over day delta:  0.183)\n",
      "-- Processing data/20230809_00\n",
      "Global 2m temp average (C) for 20230809:  8.021 (day over day delta:  0.000)\n",
      "Global 2m temp average (C) for 20230810:  7.954 (day over day delta: -0.067)\n",
      "Global 2m temp average (C) for 20230811:  7.807 (day over day delta: -0.147)\n",
      "Global 2m temp average (C) for 20230812:  7.702 (day over day delta: -0.105)\n",
      "Global 2m temp average (C) for 20230813:  7.822 (day over day delta:  0.120)\n",
      "Global 2m temp average (C) for 20230814:  7.793 (day over day delta: -0.029)\n",
      "Global 2m temp average (C) for 20230815:  7.771 (day over day delta: -0.021)\n",
      "Global 2m temp average (C) for 20230816:  7.771 (day over day delta: -0.000)\n",
      "Global 2m temp average (C) for 20230817:  7.643 (day over day delta: -0.128)\n",
      "Global 2m temp average (C) for 20230818:  7.742 (day over day delta:  0.098)\n"
     ]
    }
   ],
   "source": [
    "# Get a list of all items in the data directory\n",
    "items = os.listdir(averages_data_folder)\n",
    "# Filter out only the filenames\n",
    "sorted_files = sorted(os.path.join(averages_data_folder, item) for item in items if os.path.isfile(os.path.join(averages_data_folder, item)))\n",
    "complete_day_averages = {}\n",
    "\n",
    "# file path is the short string that is the base date\n",
    "for file_path in sorted_files:\n",
    "    print(f\"-- Processing {file_path}\")\n",
    "    base_date_short_str = os.path.basename(file_path)\n",
    "    complete_day_averages[base_date_short_str] = process_file(file_path)"
   ]
  },
  {
   "cell_type": "code",
   "execution_count": 11,
   "id": "0c3a4572",
   "metadata": {},
   "outputs": [
    {
     "data": {
      "image/png": "[encoded data removed]",
      "text/plain": [
       "<Figure size 800x1200 with 1 Axes>"
      ]
     },
     "metadata": {},
     "output_type": "display_data"
    }
   ],
   "source": [
    "# strip plot for each day\n",
    "\n",
    "import matplotlib.pyplot as plt\n",
    "import numpy as np\n",
    "import seaborn as sns\n",
    "\n",
    "def graph_strip_plot(forecast, record):\n",
    "    fig, ax = plt.subplots(figsize=(8, 12))\n",
    "    # Create a list of all data points and their corresponding labels\n",
    "    data = []\n",
    "    labels = []\n",
    "    hue = []\n",
    "\n",
    "    for date, temps in forecast.items():\n",
    "        data.extend(temps)\n",
    "        # treat the date as a whole string\n",
    "        labels.extend([date] * len(temps))\n",
    "        #hue.extend(['Forecast'] * len(temps))\n",
    "\n",
    "    #print(labels)\n",
    "    #print(data)\n",
    "    # Set the style of the strip plot\n",
    "    sns.stripplot(x=labels, y=data, dodge=True, alpha=0.9, linewidth=0)\n",
    "\n",
    "    # Add a horizontal line at the rise threshold\n",
    "    ax.axhline(y=record, color='g', linestyle='--')\n",
    "\n",
    "    # Set the y-axis label\n",
    "    ax.set_ylabel('Forecast Global Avg. Temperature (C)')\n",
    "\n",
    "    # Move the legend to the right of the chart\n",
    "    # ax.legend(loc='center left', bbox_to_anchor=(1, 0.5))\n",
    "\n",
    "    # Set the x-axis to be at the top\n",
    "    ax.xaxis.tick_top()\n",
    "    ax.xaxis.set_label_position('top')\n",
    "    \n",
    "    # Rotate the x-axis labels for better readability\n",
    "    plt.xticks(rotation=45)\n",
    "    \n",
    "    # Set more subticks on the y-axis\n",
    "    #plt.yticks(np.arange(-1.0, 1.6, 0.1))\n",
    "\n",
    "    # Increase spacing between each day\n",
    "    #plt.subplots_adjust(wspace=0.6)\n",
    "        \n",
    "    # Add a title to the chart\n",
    "    plt.title('Forecasted Global Daily Temperature Averages' + '\\n' + \n",
    "              'Derived from ECMWF (oper) Temperature Forecasts'\n",
    "    )\n",
    "\n",
    "    # Show the plot\n",
    "    plt.show()\n",
    "\n",
    "forecast = {}\n",
    "# exclude forecasts (base date) older than this day, or set to None for ALL\n",
    "min_forecast_day = \"2023-08-01\"\n",
    "\n",
    "# append all the (valid forecast) days' data from all (base day) forecasts\n",
    "for base_date_short, complete_day_average in complete_day_averages.items():\n",
    "    # each forecast has a set of forecast dates\n",
    "    # use if want to prune old forecasts\n",
    "    base_day = short_str_to_date(base_date_short)\n",
    "\n",
    "    # Date to compare in the format YYYY-MM-DD\n",
    "    if min_forecast_day:\n",
    "        compare_day = datetime.strptime(min_forecast_day, \"%Y-%m-%d\")\n",
    "    else:\n",
    "        compare_day = None\n",
    "\n",
    "    # Compare the dates\n",
    "    if not compare_day or compare_day <= base_day:\n",
    "        for valid_day, forecast_average in complete_day_average.items():\n",
    "            day_str = valid_day\n",
    "            if day_str not in forecast:\n",
    "                forecast[day_str] = []\n",
    "            temps = forecast[day_str]\n",
    "            temps.append(forecast_average)\n",
    "            forecast[day_str] = temps\n",
    "\n",
    "#print(forecast)\n",
    "# CFSR record was on August 2. GEFS forecast from previous day was 8.592\n",
    "record = 8.592\n",
    "graph_strip_plot(forecast, record)"
   ]
  },
  {
   "cell_type": "code",
   "execution_count": null,
   "id": "9eba9db4",
   "metadata": {},
   "outputs": [],
   "source": []
  },
  {
   "cell_type": "code",
   "execution_count": null,
   "id": "939060e0",
   "metadata": {},
   "outputs": [],
   "source": []
  },
  {
   "cell_type": "code",
   "execution_count": null,
   "id": "a2381ae4",
   "metadata": {},
   "outputs": [],
   "source": []
  }
 ],
 "metadata": {
  "kernelspec": {
   "display_name": "Python 3 (ipykernel)",
   "language": "python",
   "name": "python3"
  },
  "language_info": {
   "codemirror_mode": {
    "name": "ipython",
    "version": 3
   },
   "file_extension": ".py",
   "mimetype": "text/x-python",
   "name": "python",
   "nbconvert_exporter": "python",
   "pygments_lexer": "ipython3",
   "version": "3.9.1"
  }
 },
 "nbformat": 4,
 "nbformat_minor": 5
}
