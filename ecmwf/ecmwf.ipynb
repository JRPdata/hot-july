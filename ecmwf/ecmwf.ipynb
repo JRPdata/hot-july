{
 "cells": [
  {
   "cell_type": "code",
   "execution_count": 1,
   "id": "5919811a",
   "metadata": {},
   "outputs": [],
   "source": [
    "import ecmwf.data as ecdata\n",
    "from ecmwf.opendata import Client\n",
    "import numpy as np\n",
    "import time\n",
    "import json\n",
    "import os\n",
    "from datetime import datetime"
   ]
  },
  {
   "cell_type": "code",
   "execution_count": 2,
   "id": "ea4f7394",
   "metadata": {},
   "outputs": [],
   "source": [
    "def get_date_from_offset(date_string, offset_hours):\n",
    "    date_format = \"%Y%m%d\"\n",
    "    date = datetime.strptime(date_string, date_format)\n",
    "    result_date = date + timedelta(hours=offset_hours)\n",
    "    return result_date\n",
    "\n",
    "def date_to_time_str(date_time):\n",
    "    date_format = \"%Y-%m-%d %H:%M:%S\"\n",
    "    time_str = date_time.strftime(date_format)\n",
    "    return time_str\n",
    "\n",
    "def date_to_day_str(date_time):\n",
    "    date_format = \"%m-%d-%Y\"\n",
    "    month_day_year = date_time.strftime(date_format)\n",
    "    return month_day_year\n",
    "\n",
    "def date_to_short_str(date_time):\n",
    "    date_format = \"%Y%m%d_%H\"\n",
    "    folder_str = date_time.strftime(date_format)\n",
    "    return folder_str\n",
    "\n",
    "def short_str_to_date(short_str):\n",
    "    return datetime.strptime(short_str, \"%Y%m%d_%H\")\n",
    "\n",
    "def short_str_date_hour(short_str):\n",
    "    return short_str[-2:]\n",
    "\n",
    "def short_str_no_hour(short_str):\n",
    "    return short_str[0:-3]\n",
    "\n",
    "def short_str_no_hour_to_date(short_str):\n",
    "    return datetime.strptime(short_str, \"%Y%m%d\")"
   ]
  },
  {
   "cell_type": "code",
   "execution_count": null,
   "id": "58b3e1f3",
   "metadata": {},
   "outputs": [],
   "source": []
  },
  {
   "cell_type": "code",
   "execution_count": 3,
   "id": "14ce4280",
   "metadata": {},
   "outputs": [],
   "source": [
    "def retrieve_all_steps_2t(d, t):\n",
    "    # d should be 0 (for today), or -1, -2 (for yesterday, day before yesterday)\n",
    "    # only use t = 0 or t = 12 (as that is the only one that has 'oper' forecasts)\n",
    "    # oper forecasts go from 0 to 144 every 3 hours, then 150 to 240 every 6 hours\n",
    "    steps3 = list(range(0,147, 3))\n",
    "    steps6 = list(range(150,246,6))\n",
    "    steps = steps3 + steps6\n",
    "    averages = {}\n",
    "    for step in steps:\n",
    "        parameters = ['2t']\n",
    "        output_filename = '2t.grib'\n",
    "        time.sleep(1)\n",
    "        client.retrieve(\n",
    "            date=d,\n",
    "            time=t,\n",
    "            step=step,\n",
    "            stream=\"oper\",\n",
    "            type=\"fc\",\n",
    "            levtype=\"sfc\",\n",
    "            param=parameters,\n",
    "            target=output_filename\n",
    "        )\n",
    "        data = ecdata.read(output_filename)\n",
    "        # describe = data.describe()\n",
    "        t2m = data.select(shortName=\"2t\")\n",
    "        # convert from kelvin to celsius\n",
    "        t2m -= 273.15\n",
    "        average = np.average(t2m.values())\n",
    "        base_date = date_to_short_str(t2m.base_date())\n",
    "        valid_date = date_to_short_str(t2m.valid_date())\n",
    "        if base_date not in averages:\n",
    "            averages[base_date] = {}\n",
    "        averages[base_date][valid_date] = average\n",
    "    return averages\n",
    "\n",
    "def write_averages(averages_data_folder, averages):\n",
    "    # write the data for the averages so we don't have to compute again\n",
    "    if not os.path.exists(averages_data_folder):\n",
    "        os.makedirs(averages_data_folder)\n",
    "    for base_date, data in averages.items():\n",
    "        file_path = os.path.join(averages_data_folder, base_date)\n",
    "        with open(file_path, 'w') as f:\n",
    "            json_object = json.dumps(data, indent=4)\n",
    "            f.write(json_object)"
   ]
  },
  {
   "cell_type": "code",
   "execution_count": 4,
   "id": "4782d507",
   "metadata": {},
   "outputs": [],
   "source": [
    "# Compute day averages and graph them\n",
    "def process_file(file_path):\n",
    "    with open(file_path, 'r') as f:\n",
    "        forecast_temperatures = json.load(f)\n",
    "    \n",
    "    last_date = None\n",
    "    complete_averages = {}\n",
    "    \n",
    "    # calculate the average for each day\n",
    "    last_day_str = None\n",
    "    day_averages = []\n",
    "    last_avg = None\n",
    "    first_day = True\n",
    "    first_hour = None\n",
    "    for valid_time, avg in forecast_temperatures.items():\n",
    "        # handle case for first observation\n",
    "        if last_day_str is None:\n",
    "            last_day_str = short_str_no_hour(valid_time)\n",
    "            first_hour = short_str_date_hour(valid_time)\n",
    "\n",
    "        day_str = short_str_no_hour(valid_time)\n",
    "        if day_str == last_day_str:\n",
    "            # time step in same day\n",
    "            day_averages.append(avg)\n",
    "        else:\n",
    "            # time step goes to next day\n",
    "            # print out the previous day's average first\n",
    "            \n",
    "            day_average = np.average(day_averages)\n",
    "            if last_avg == None:\n",
    "                last_avg = day_average\n",
    "            day_over_day_delta = day_average - last_avg\n",
    "            print(f\"Global 2m temp average (C) for {last_day_str}: {day_average:6.3f} (day over day delta: {day_over_day_delta:6.3f})\")\n",
    "            # don't include non-complete days\n",
    "            if not first_day or first_hour == '00':\n",
    "                complete_averages[last_day_str] = day_average\n",
    "            # clear the list for the new day\n",
    "            day_averages = []\n",
    "            # change the last_day\n",
    "            last_day_str = day_str\n",
    "            # add the current day's average to the list\n",
    "            day_averages.append(avg)\n",
    "            last_avg = day_average\n",
    "            # set first day done\n",
    "            first_day = False\n",
    "    return complete_averages"
   ]
  },
  {
   "cell_type": "code",
   "execution_count": 5,
   "id": "6ac04ce2",
   "metadata": {},
   "outputs": [
    {
     "data": {
      "application/json": {
       "ascii": false,
       "bar_format": null,
       "colour": null,
       "elapsed": 0.013531208038330078,
       "initial": 0,
       "n": 0,
       "ncols": null,
       "nrows": 25,
       "postfix": null,
       "prefix": "20230812000000-0h-oper-fc.grib2",
       "rate": null,
       "total": 285769,
       "unit": "B",
       "unit_divisor": 1024,
       "unit_scale": true
      },
      "application/vnd.jupyter.widget-view+json": {
       "model_id": "",
       "version_major": 2,
       "version_minor": 0
      },
      "text/plain": [
       "20230812000000-0h-oper-fc.grib2:   0%|          | 0.00/279k [00:00<?, ?B/s]"
      ]
     },
     "metadata": {},
     "output_type": "display_data"
    },
    {
     "data": {
      "application/json": {
       "ascii": false,
       "bar_format": null,
       "colour": null,
       "elapsed": 0.010276317596435547,
       "initial": 0,
       "n": 0,
       "ncols": null,
       "nrows": 25,
       "postfix": null,
       "prefix": "20230812000000-3h-oper-fc.grib2",
       "rate": null,
       "total": 285563,
       "unit": "B",
       "unit_divisor": 1024,
       "unit_scale": true
      },
      "application/vnd.jupyter.widget-view+json": {
       "model_id": "",
       "version_major": 2,
       "version_minor": 0
      },
      "text/plain": [
       "20230812000000-3h-oper-fc.grib2:   0%|          | 0.00/279k [00:00<?, ?B/s]"
      ]
     },
     "metadata": {},
     "output_type": "display_data"
    },
    {
     "data": {
      "application/json": {
       "ascii": false,
       "bar_format": null,
       "colour": null,
       "elapsed": 0.028209686279296875,
       "initial": 0,
       "n": 0,
       "ncols": null,
       "nrows": 25,
       "postfix": null,
       "prefix": "20230812000000-6h-oper-fc.grib2",
       "rate": null,
       "total": 285570,
       "unit": "B",
       "unit_divisor": 1024,
       "unit_scale": true
      },
      "application/vnd.jupyter.widget-view+json": {
       "model_id": "",
       "version_major": 2,
       "version_minor": 0
      },
      "text/plain": [
       "20230812000000-6h-oper-fc.grib2:   0%|          | 0.00/279k [00:00<?, ?B/s]"
      ]
     },
     "metadata": {},
     "output_type": "display_data"
    },
    {
     "data": {
      "application/json": {
       "ascii": false,
       "bar_format": null,
       "colour": null,
       "elapsed": 0.015806198120117188,
       "initial": 0,
       "n": 0,
       "ncols": null,
       "nrows": 25,
       "postfix": null,
       "prefix": "20230812000000-9h-oper-fc.grib2",
       "rate": null,
       "total": 238663,
       "unit": "B",
       "unit_divisor": 1024,
       "unit_scale": true
      },
      "application/vnd.jupyter.widget-view+json": {
       "model_id": "",
       "version_major": 2,
       "version_minor": 0
      },
      "text/plain": [
       "20230812000000-9h-oper-fc.grib2:   0%|          | 0.00/233k [00:00<?, ?B/s]"
      ]
     },
     "metadata": {},
     "output_type": "display_data"
    },
    {
     "data": {
      "application/json": {
       "ascii": false,
       "bar_format": null,
       "colour": null,
       "elapsed": 0.018964529037475586,
       "initial": 0,
       "n": 0,
       "ncols": null,
       "nrows": 25,
       "postfix": null,
       "prefix": "20230812000000-12h-oper-fc.grib2",
       "rate": null,
       "total": 239415,
       "unit": "B",
       "unit_divisor": 1024,
       "unit_scale": true
      },
      "application/vnd.jupyter.widget-view+json": {
       "model_id": "",
       "version_major": 2,
       "version_minor": 0
      },
      "text/plain": [
       "20230812000000-12h-oper-fc.grib2:   0%|          | 0.00/234k [00:00<?, ?B/s]"
      ]
     },
     "metadata": {},
     "output_type": "display_data"
    },
    {
     "data": {
      "application/json": {
       "ascii": false,
       "bar_format": null,
       "colour": null,
       "elapsed": 0.014143943786621094,
       "initial": 0,
       "n": 0,
       "ncols": null,
       "nrows": 25,
       "postfix": null,
       "prefix": "20230812000000-15h-oper-fc.grib2",
       "rate": null,
       "total": 287839,
       "unit": "B",
       "unit_divisor": 1024,
       "unit_scale": true
      },
      "application/vnd.jupyter.widget-view+json": {
       "model_id": "",
       "version_major": 2,
       "version_minor": 0
      },
      "text/plain": [
       "20230812000000-15h-oper-fc.grib2:   0%|          | 0.00/281k [00:00<?, ?B/s]"
      ]
     },
     "metadata": {},
     "output_type": "display_data"
    },
    {
     "data": {
      "application/json": {
       "ascii": false,
       "bar_format": null,
       "colour": null,
       "elapsed": 0.014219284057617188,
       "initial": 0,
       "n": 0,
       "ncols": null,
       "nrows": 25,
       "postfix": null,
       "prefix": "20230812000000-18h-oper-fc.grib2",
       "rate": null,
       "total": 288424,
       "unit": "B",
       "unit_divisor": 1024,
       "unit_scale": true
      },
      "application/vnd.jupyter.widget-view+json": {
       "model_id": "",
       "version_major": 2,
       "version_minor": 0
      },
      "text/plain": [
       "20230812000000-18h-oper-fc.grib2:   0%|          | 0.00/282k [00:00<?, ?B/s]"
      ]
     },
     "metadata": {},
     "output_type": "display_data"
    },
    {
     "data": {
      "application/json": {
       "ascii": false,
       "bar_format": null,
       "colour": null,
       "elapsed": 0.01128387451171875,
       "initial": 0,
       "n": 0,
       "ncols": null,
       "nrows": 25,
       "postfix": null,
       "prefix": "20230812000000-21h-oper-fc.grib2",
       "rate": null,
       "total": 287576,
       "unit": "B",
       "unit_divisor": 1024,
       "unit_scale": true
      },
      "application/vnd.jupyter.widget-view+json": {
       "model_id": "",
       "version_major": 2,
       "version_minor": 0
      },
      "text/plain": [
       "20230812000000-21h-oper-fc.grib2:   0%|          | 0.00/281k [00:00<?, ?B/s]"
      ]
     },
     "metadata": {},
     "output_type": "display_data"
    },
    {
     "data": {
      "application/json": {
       "ascii": false,
       "bar_format": null,
       "colour": null,
       "elapsed": 0.011260509490966797,
       "initial": 0,
       "n": 0,
       "ncols": null,
       "nrows": 25,
       "postfix": null,
       "prefix": "20230812000000-24h-oper-fc.grib2",
       "rate": null,
       "total": 285522,
       "unit": "B",
       "unit_divisor": 1024,
       "unit_scale": true
      },
      "application/vnd.jupyter.widget-view+json": {
       "model_id": "",
       "version_major": 2,
       "version_minor": 0
      },
      "text/plain": [
       "20230812000000-24h-oper-fc.grib2:   0%|          | 0.00/279k [00:00<?, ?B/s]"
      ]
     },
     "metadata": {},
     "output_type": "display_data"
    },
    {
     "data": {
      "application/json": {
       "ascii": false,
       "bar_format": null,
       "colour": null,
       "elapsed": 0.02283453941345215,
       "initial": 0,
       "n": 0,
       "ncols": null,
       "nrows": 25,
       "postfix": null,
       "prefix": "20230812000000-27h-oper-fc.grib2",
       "rate": null,
       "total": 285479,
       "unit": "B",
       "unit_divisor": 1024,
       "unit_scale": true
      },
      "application/vnd.jupyter.widget-view+json": {
       "model_id": "",
       "version_major": 2,
       "version_minor": 0
      },
      "text/plain": [
       "20230812000000-27h-oper-fc.grib2:   0%|          | 0.00/279k [00:00<?, ?B/s]"
      ]
     },
     "metadata": {},
     "output_type": "display_data"
    },
    {
     "data": {
      "application/json": {
       "ascii": false,
       "bar_format": null,
       "colour": null,
       "elapsed": 0.010696887969970703,
       "initial": 0,
       "n": 0,
       "ncols": null,
       "nrows": 25,
       "postfix": null,
       "prefix": "20230812000000-30h-oper-fc.grib2",
       "rate": null,
       "total": 285554,
       "unit": "B",
       "unit_divisor": 1024,
       "unit_scale": true
      },
      "application/vnd.jupyter.widget-view+json": {
       "model_id": "",
       "version_major": 2,
       "version_minor": 0
      },
      "text/plain": [
       "20230812000000-30h-oper-fc.grib2:   0%|          | 0.00/279k [00:00<?, ?B/s]"
      ]
     },
     "metadata": {},
     "output_type": "display_data"
    },
    {
     "data": {
      "application/json": {
       "ascii": false,
       "bar_format": null,
       "colour": null,
       "elapsed": 0.017974138259887695,
       "initial": 0,
       "n": 0,
       "ncols": null,
       "nrows": 25,
       "postfix": null,
       "prefix": "20230812000000-33h-oper-fc.grib2",
       "rate": null,
       "total": 287245,
       "unit": "B",
       "unit_divisor": 1024,
       "unit_scale": true
      },
      "application/vnd.jupyter.widget-view+json": {
       "model_id": "",
       "version_major": 2,
       "version_minor": 0
      },
      "text/plain": [
       "20230812000000-33h-oper-fc.grib2:   0%|          | 0.00/281k [00:00<?, ?B/s]"
      ]
     },
     "metadata": {},
     "output_type": "display_data"
    },
    {
     "data": {
      "application/json": {
       "ascii": false,
       "bar_format": null,
       "colour": null,
       "elapsed": 0.016438961029052734,
       "initial": 0,
       "n": 0,
       "ncols": null,
       "nrows": 25,
       "postfix": null,
       "prefix": "20230812000000-36h-oper-fc.grib2",
       "rate": null,
       "total": 288235,
       "unit": "B",
       "unit_divisor": 1024,
       "unit_scale": true
      },
      "application/vnd.jupyter.widget-view+json": {
       "model_id": "",
       "version_major": 2,
       "version_minor": 0
      },
      "text/plain": [
       "20230812000000-36h-oper-fc.grib2:   0%|          | 0.00/281k [00:00<?, ?B/s]"
      ]
     },
     "metadata": {},
     "output_type": "display_data"
    },
    {
     "data": {
      "application/json": {
       "ascii": false,
       "bar_format": null,
       "colour": null,
       "elapsed": 0.012234926223754883,
       "initial": 0,
       "n": 0,
       "ncols": null,
       "nrows": 25,
       "postfix": null,
       "prefix": "20230812000000-39h-oper-fc.grib2",
       "rate": null,
       "total": 289127,
       "unit": "B",
       "unit_divisor": 1024,
       "unit_scale": true
      },
      "application/vnd.jupyter.widget-view+json": {
       "model_id": "",
       "version_major": 2,
       "version_minor": 0
      },
      "text/plain": [
       "20230812000000-39h-oper-fc.grib2:   0%|          | 0.00/282k [00:00<?, ?B/s]"
      ]
     },
     "metadata": {},
     "output_type": "display_data"
    },
    {
     "data": {
      "application/json": {
       "ascii": false,
       "bar_format": null,
       "colour": null,
       "elapsed": 0.014949321746826172,
       "initial": 0,
       "n": 0,
       "ncols": null,
       "nrows": 25,
       "postfix": null,
       "prefix": "20230812000000-42h-oper-fc.grib2",
       "rate": null,
       "total": 289612,
       "unit": "B",
       "unit_divisor": 1024,
       "unit_scale": true
      },
      "application/vnd.jupyter.widget-view+json": {
       "model_id": "",
       "version_major": 2,
       "version_minor": 0
      },
      "text/plain": [
       "20230812000000-42h-oper-fc.grib2:   0%|          | 0.00/283k [00:00<?, ?B/s]"
      ]
     },
     "metadata": {},
     "output_type": "display_data"
    },
    {
     "data": {
      "application/json": {
       "ascii": false,
       "bar_format": null,
       "colour": null,
       "elapsed": 0.012186527252197266,
       "initial": 0,
       "n": 0,
       "ncols": null,
       "nrows": 25,
       "postfix": null,
       "prefix": "20230812000000-45h-oper-fc.grib2",
       "rate": null,
       "total": 288953,
       "unit": "B",
       "unit_divisor": 1024,
       "unit_scale": true
      },
      "application/vnd.jupyter.widget-view+json": {
       "model_id": "",
       "version_major": 2,
       "version_minor": 0
      },
      "text/plain": [
       "20230812000000-45h-oper-fc.grib2:   0%|          | 0.00/282k [00:00<?, ?B/s]"
      ]
     },
     "metadata": {},
     "output_type": "display_data"
    },
    {
     "data": {
      "application/json": {
       "ascii": false,
       "bar_format": null,
       "colour": null,
       "elapsed": 0.012426376342773438,
       "initial": 0,
       "n": 0,
       "ncols": null,
       "nrows": 25,
       "postfix": null,
       "prefix": "20230812000000-48h-oper-fc.grib2",
       "rate": null,
       "total": 286526,
       "unit": "B",
       "unit_divisor": 1024,
       "unit_scale": true
      },
      "application/vnd.jupyter.widget-view+json": {
       "model_id": "",
       "version_major": 2,
       "version_minor": 0
      },
      "text/plain": [
       "20230812000000-48h-oper-fc.grib2:   0%|          | 0.00/280k [00:00<?, ?B/s]"
      ]
     },
     "metadata": {},
     "output_type": "display_data"
    },
    {
     "data": {
      "application/json": {
       "ascii": false,
       "bar_format": null,
       "colour": null,
       "elapsed": 0.011081218719482422,
       "initial": 0,
       "n": 0,
       "ncols": null,
       "nrows": 25,
       "postfix": null,
       "prefix": "20230812000000-51h-oper-fc.grib2",
       "rate": null,
       "total": 286169,
       "unit": "B",
       "unit_divisor": 1024,
       "unit_scale": true
      },
      "application/vnd.jupyter.widget-view+json": {
       "model_id": "",
       "version_major": 2,
       "version_minor": 0
      },
      "text/plain": [
       "20230812000000-51h-oper-fc.grib2:   0%|          | 0.00/279k [00:00<?, ?B/s]"
      ]
     },
     "metadata": {},
     "output_type": "display_data"
    },
    {
     "data": {
      "application/json": {
       "ascii": false,
       "bar_format": null,
       "colour": null,
       "elapsed": 0.010145425796508789,
       "initial": 0,
       "n": 0,
       "ncols": null,
       "nrows": 25,
       "postfix": null,
       "prefix": "20230812000000-54h-oper-fc.grib2",
       "rate": null,
       "total": 285947,
       "unit": "B",
       "unit_divisor": 1024,
       "unit_scale": true
      },
      "application/vnd.jupyter.widget-view+json": {
       "model_id": "",
       "version_major": 2,
       "version_minor": 0
      },
      "text/plain": [
       "20230812000000-54h-oper-fc.grib2:   0%|          | 0.00/279k [00:00<?, ?B/s]"
      ]
     },
     "metadata": {},
     "output_type": "display_data"
    },
    {
     "data": {
      "application/json": {
       "ascii": false,
       "bar_format": null,
       "colour": null,
       "elapsed": 0.010369062423706055,
       "initial": 0,
       "n": 0,
       "ncols": null,
       "nrows": 25,
       "postfix": null,
       "prefix": "20230812000000-57h-oper-fc.grib2",
       "rate": null,
       "total": 287184,
       "unit": "B",
       "unit_divisor": 1024,
       "unit_scale": true
      },
      "application/vnd.jupyter.widget-view+json": {
       "model_id": "",
       "version_major": 2,
       "version_minor": 0
      },
      "text/plain": [
       "20230812000000-57h-oper-fc.grib2:   0%|          | 0.00/280k [00:00<?, ?B/s]"
      ]
     },
     "metadata": {},
     "output_type": "display_data"
    },
    {
     "data": {
      "application/json": {
       "ascii": false,
       "bar_format": null,
       "colour": null,
       "elapsed": 0.0104522705078125,
       "initial": 0,
       "n": 0,
       "ncols": null,
       "nrows": 25,
       "postfix": null,
       "prefix": "20230812000000-60h-oper-fc.grib2",
       "rate": null,
       "total": 287782,
       "unit": "B",
       "unit_divisor": 1024,
       "unit_scale": true
      },
      "application/vnd.jupyter.widget-view+json": {
       "model_id": "",
       "version_major": 2,
       "version_minor": 0
      },
      "text/plain": [
       "20230812000000-60h-oper-fc.grib2:   0%|          | 0.00/281k [00:00<?, ?B/s]"
      ]
     },
     "metadata": {},
     "output_type": "display_data"
    },
    {
     "data": {
      "application/json": {
       "ascii": false,
       "bar_format": null,
       "colour": null,
       "elapsed": 0.012142181396484375,
       "initial": 0,
       "n": 0,
       "ncols": null,
       "nrows": 25,
       "postfix": null,
       "prefix": "20230812000000-63h-oper-fc.grib2",
       "rate": null,
       "total": 288166,
       "unit": "B",
       "unit_divisor": 1024,
       "unit_scale": true
      },
      "application/vnd.jupyter.widget-view+json": {
       "model_id": "",
       "version_major": 2,
       "version_minor": 0
      },
      "text/plain": [
       "20230812000000-63h-oper-fc.grib2:   0%|          | 0.00/281k [00:00<?, ?B/s]"
      ]
     },
     "metadata": {},
     "output_type": "display_data"
    },
    {
     "data": {
      "application/json": {
       "ascii": false,
       "bar_format": null,
       "colour": null,
       "elapsed": 0.014961004257202148,
       "initial": 0,
       "n": 0,
       "ncols": null,
       "nrows": 25,
       "postfix": null,
       "prefix": "20230812000000-66h-oper-fc.grib2",
       "rate": null,
       "total": 288654,
       "unit": "B",
       "unit_divisor": 1024,
       "unit_scale": true
      },
      "application/vnd.jupyter.widget-view+json": {
       "model_id": "",
       "version_major": 2,
       "version_minor": 0
      },
      "text/plain": [
       "20230812000000-66h-oper-fc.grib2:   0%|          | 0.00/282k [00:00<?, ?B/s]"
      ]
     },
     "metadata": {},
     "output_type": "display_data"
    },
    {
     "data": {
      "application/json": {
       "ascii": false,
       "bar_format": null,
       "colour": null,
       "elapsed": 0.014014244079589844,
       "initial": 0,
       "n": 0,
       "ncols": null,
       "nrows": 25,
       "postfix": null,
       "prefix": "20230812000000-69h-oper-fc.grib2",
       "rate": null,
       "total": 288015,
       "unit": "B",
       "unit_divisor": 1024,
       "unit_scale": true
      },
      "application/vnd.jupyter.widget-view+json": {
       "model_id": "",
       "version_major": 2,
       "version_minor": 0
      },
      "text/plain": [
       "20230812000000-69h-oper-fc.grib2:   0%|          | 0.00/281k [00:00<?, ?B/s]"
      ]
     },
     "metadata": {},
     "output_type": "display_data"
    },
    {
     "data": {
      "application/json": {
       "ascii": false,
       "bar_format": null,
       "colour": null,
       "elapsed": 0.013964414596557617,
       "initial": 0,
       "n": 0,
       "ncols": null,
       "nrows": 25,
       "postfix": null,
       "prefix": "20230812000000-72h-oper-fc.grib2",
       "rate": null,
       "total": 285615,
       "unit": "B",
       "unit_divisor": 1024,
       "unit_scale": true
      },
      "application/vnd.jupyter.widget-view+json": {
       "model_id": "",
       "version_major": 2,
       "version_minor": 0
      },
      "text/plain": [
       "20230812000000-72h-oper-fc.grib2:   0%|          | 0.00/279k [00:00<?, ?B/s]"
      ]
     },
     "metadata": {},
     "output_type": "display_data"
    },
    {
     "data": {
      "application/json": {
       "ascii": false,
       "bar_format": null,
       "colour": null,
       "elapsed": 0.016509532928466797,
       "initial": 0,
       "n": 0,
       "ncols": null,
       "nrows": 25,
       "postfix": null,
       "prefix": "20230812000000-75h-oper-fc.grib2",
       "rate": null,
       "total": 285595,
       "unit": "B",
       "unit_divisor": 1024,
       "unit_scale": true
      },
      "application/vnd.jupyter.widget-view+json": {
       "model_id": "",
       "version_major": 2,
       "version_minor": 0
      },
      "text/plain": [
       "20230812000000-75h-oper-fc.grib2:   0%|          | 0.00/279k [00:00<?, ?B/s]"
      ]
     },
     "metadata": {},
     "output_type": "display_data"
    },
    {
     "data": {
      "application/json": {
       "ascii": false,
       "bar_format": null,
       "colour": null,
       "elapsed": 0.012395143508911133,
       "initial": 0,
       "n": 0,
       "ncols": null,
       "nrows": 25,
       "postfix": null,
       "prefix": "20230812000000-78h-oper-fc.grib2",
       "rate": null,
       "total": 286255,
       "unit": "B",
       "unit_divisor": 1024,
       "unit_scale": true
      },
      "application/vnd.jupyter.widget-view+json": {
       "model_id": "",
       "version_major": 2,
       "version_minor": 0
      },
      "text/plain": [
       "20230812000000-78h-oper-fc.grib2:   0%|          | 0.00/280k [00:00<?, ?B/s]"
      ]
     },
     "metadata": {},
     "output_type": "display_data"
    },
    {
     "data": {
      "application/json": {
       "ascii": false,
       "bar_format": null,
       "colour": null,
       "elapsed": 0.011964082717895508,
       "initial": 0,
       "n": 0,
       "ncols": null,
       "nrows": 25,
       "postfix": null,
       "prefix": "20230812000000-81h-oper-fc.grib2",
       "rate": null,
       "total": 288013,
       "unit": "B",
       "unit_divisor": 1024,
       "unit_scale": true
      },
      "application/vnd.jupyter.widget-view+json": {
       "model_id": "",
       "version_major": 2,
       "version_minor": 0
      },
      "text/plain": [
       "20230812000000-81h-oper-fc.grib2:   0%|          | 0.00/281k [00:00<?, ?B/s]"
      ]
     },
     "metadata": {},
     "output_type": "display_data"
    },
    {
     "data": {
      "application/json": {
       "ascii": false,
       "bar_format": null,
       "colour": null,
       "elapsed": 0.012193679809570312,
       "initial": 0,
       "n": 0,
       "ncols": null,
       "nrows": 25,
       "postfix": null,
       "prefix": "20230812000000-84h-oper-fc.grib2",
       "rate": null,
       "total": 288916,
       "unit": "B",
       "unit_divisor": 1024,
       "unit_scale": true
      },
      "application/vnd.jupyter.widget-view+json": {
       "model_id": "",
       "version_major": 2,
       "version_minor": 0
      },
      "text/plain": [
       "20230812000000-84h-oper-fc.grib2:   0%|          | 0.00/282k [00:00<?, ?B/s]"
      ]
     },
     "metadata": {},
     "output_type": "display_data"
    },
    {
     "data": {
      "application/json": {
       "ascii": false,
       "bar_format": null,
       "colour": null,
       "elapsed": 0.02199411392211914,
       "initial": 0,
       "n": 0,
       "ncols": null,
       "nrows": 25,
       "postfix": null,
       "prefix": "20230812000000-87h-oper-fc.grib2",
       "rate": null,
       "total": 289323,
       "unit": "B",
       "unit_divisor": 1024,
       "unit_scale": true
      },
      "application/vnd.jupyter.widget-view+json": {
       "model_id": "",
       "version_major": 2,
       "version_minor": 0
      },
      "text/plain": [
       "20230812000000-87h-oper-fc.grib2:   0%|          | 0.00/283k [00:00<?, ?B/s]"
      ]
     },
     "metadata": {},
     "output_type": "display_data"
    },
    {
     "data": {
      "application/json": {
       "ascii": false,
       "bar_format": null,
       "colour": null,
       "elapsed": 0.018365859985351562,
       "initial": 0,
       "n": 0,
       "ncols": null,
       "nrows": 25,
       "postfix": null,
       "prefix": "20230812000000-90h-oper-fc.grib2",
       "rate": null,
       "total": 289727,
       "unit": "B",
       "unit_divisor": 1024,
       "unit_scale": true
      },
      "application/vnd.jupyter.widget-view+json": {
       "model_id": "",
       "version_major": 2,
       "version_minor": 0
      },
      "text/plain": [
       "20230812000000-90h-oper-fc.grib2:   0%|          | 0.00/283k [00:00<?, ?B/s]"
      ]
     },
     "metadata": {},
     "output_type": "display_data"
    },
    {
     "data": {
      "application/json": {
       "ascii": false,
       "bar_format": null,
       "colour": null,
       "elapsed": 0.010220527648925781,
       "initial": 0,
       "n": 0,
       "ncols": null,
       "nrows": 25,
       "postfix": null,
       "prefix": "20230812000000-93h-oper-fc.grib2",
       "rate": null,
       "total": 289092,
       "unit": "B",
       "unit_divisor": 1024,
       "unit_scale": true
      },
      "application/vnd.jupyter.widget-view+json": {
       "model_id": "",
       "version_major": 2,
       "version_minor": 0
      },
      "text/plain": [
       "20230812000000-93h-oper-fc.grib2:   0%|          | 0.00/282k [00:00<?, ?B/s]"
      ]
     },
     "metadata": {},
     "output_type": "display_data"
    },
    {
     "data": {
      "application/json": {
       "ascii": false,
       "bar_format": null,
       "colour": null,
       "elapsed": 0.020053625106811523,
       "initial": 0,
       "n": 0,
       "ncols": null,
       "nrows": 25,
       "postfix": null,
       "prefix": "20230812000000-96h-oper-fc.grib2",
       "rate": null,
       "total": 286977,
       "unit": "B",
       "unit_divisor": 1024,
       "unit_scale": true
      },
      "application/vnd.jupyter.widget-view+json": {
       "model_id": "",
       "version_major": 2,
       "version_minor": 0
      },
      "text/plain": [
       "20230812000000-96h-oper-fc.grib2:   0%|          | 0.00/280k [00:00<?, ?B/s]"
      ]
     },
     "metadata": {},
     "output_type": "display_data"
    },
    {
     "data": {
      "application/json": {
       "ascii": false,
       "bar_format": null,
       "colour": null,
       "elapsed": 0.01782679557800293,
       "initial": 0,
       "n": 0,
       "ncols": null,
       "nrows": 25,
       "postfix": null,
       "prefix": "20230812000000-99h-oper-fc.grib2",
       "rate": null,
       "total": 286844,
       "unit": "B",
       "unit_divisor": 1024,
       "unit_scale": true
      },
      "application/vnd.jupyter.widget-view+json": {
       "model_id": "",
       "version_major": 2,
       "version_minor": 0
      },
      "text/plain": [
       "20230812000000-99h-oper-fc.grib2:   0%|          | 0.00/280k [00:00<?, ?B/s]"
      ]
     },
     "metadata": {},
     "output_type": "display_data"
    },
    {
     "data": {
      "application/json": {
       "ascii": false,
       "bar_format": null,
       "colour": null,
       "elapsed": 0.012955904006958008,
       "initial": 0,
       "n": 0,
       "ncols": null,
       "nrows": 25,
       "postfix": null,
       "prefix": "20230812000000-102h-oper-fc.grib2",
       "rate": null,
       "total": 287083,
       "unit": "B",
       "unit_divisor": 1024,
       "unit_scale": true
      },
      "application/vnd.jupyter.widget-view+json": {
       "model_id": "",
       "version_major": 2,
       "version_minor": 0
      },
      "text/plain": [
       "20230812000000-102h-oper-fc.grib2:   0%|          | 0.00/280k [00:00<?, ?B/s]"
      ]
     },
     "metadata": {},
     "output_type": "display_data"
    },
    {
     "data": {
      "application/json": {
       "ascii": false,
       "bar_format": null,
       "colour": null,
       "elapsed": 0.012525796890258789,
       "initial": 0,
       "n": 0,
       "ncols": null,
       "nrows": 25,
       "postfix": null,
       "prefix": "20230812000000-105h-oper-fc.grib2",
       "rate": null,
       "total": 288056,
       "unit": "B",
       "unit_divisor": 1024,
       "unit_scale": true
      },
      "application/vnd.jupyter.widget-view+json": {
       "model_id": "",
       "version_major": 2,
       "version_minor": 0
      },
      "text/plain": [
       "20230812000000-105h-oper-fc.grib2:   0%|          | 0.00/281k [00:00<?, ?B/s]"
      ]
     },
     "metadata": {},
     "output_type": "display_data"
    },
    {
     "data": {
      "application/json": {
       "ascii": false,
       "bar_format": null,
       "colour": null,
       "elapsed": 0.01487588882446289,
       "initial": 0,
       "n": 0,
       "ncols": null,
       "nrows": 25,
       "postfix": null,
       "prefix": "20230812000000-108h-oper-fc.grib2",
       "rate": null,
       "total": 240202,
       "unit": "B",
       "unit_divisor": 1024,
       "unit_scale": true
      },
      "application/vnd.jupyter.widget-view+json": {
       "model_id": "",
       "version_major": 2,
       "version_minor": 0
      },
      "text/plain": [
       "20230812000000-108h-oper-fc.grib2:   0%|          | 0.00/235k [00:00<?, ?B/s]"
      ]
     },
     "metadata": {},
     "output_type": "display_data"
    },
    {
     "data": {
      "application/json": {
       "ascii": false,
       "bar_format": null,
       "colour": null,
       "elapsed": 0.012226581573486328,
       "initial": 0,
       "n": 0,
       "ncols": null,
       "nrows": 25,
       "postfix": null,
       "prefix": "20230812000000-111h-oper-fc.grib2",
       "rate": null,
       "total": 288373,
       "unit": "B",
       "unit_divisor": 1024,
       "unit_scale": true
      },
      "application/vnd.jupyter.widget-view+json": {
       "model_id": "",
       "version_major": 2,
       "version_minor": 0
      },
      "text/plain": [
       "20230812000000-111h-oper-fc.grib2:   0%|          | 0.00/282k [00:00<?, ?B/s]"
      ]
     },
     "metadata": {},
     "output_type": "display_data"
    },
    {
     "data": {
      "application/json": {
       "ascii": false,
       "bar_format": null,
       "colour": null,
       "elapsed": 0.014317512512207031,
       "initial": 0,
       "n": 0,
       "ncols": null,
       "nrows": 25,
       "postfix": null,
       "prefix": "20230812000000-114h-oper-fc.grib2",
       "rate": null,
       "total": 288842,
       "unit": "B",
       "unit_divisor": 1024,
       "unit_scale": true
      },
      "application/vnd.jupyter.widget-view+json": {
       "model_id": "",
       "version_major": 2,
       "version_minor": 0
      },
      "text/plain": [
       "20230812000000-114h-oper-fc.grib2:   0%|          | 0.00/282k [00:00<?, ?B/s]"
      ]
     },
     "metadata": {},
     "output_type": "display_data"
    },
    {
     "data": {
      "application/json": {
       "ascii": false,
       "bar_format": null,
       "colour": null,
       "elapsed": 0.013586282730102539,
       "initial": 0,
       "n": 0,
       "ncols": null,
       "nrows": 25,
       "postfix": null,
       "prefix": "20230812000000-117h-oper-fc.grib2",
       "rate": null,
       "total": 288191,
       "unit": "B",
       "unit_divisor": 1024,
       "unit_scale": true
      },
      "application/vnd.jupyter.widget-view+json": {
       "model_id": "",
       "version_major": 2,
       "version_minor": 0
      },
      "text/plain": [
       "20230812000000-117h-oper-fc.grib2:   0%|          | 0.00/281k [00:00<?, ?B/s]"
      ]
     },
     "metadata": {},
     "output_type": "display_data"
    },
    {
     "data": {
      "application/json": {
       "ascii": false,
       "bar_format": null,
       "colour": null,
       "elapsed": 0.011947154998779297,
       "initial": 0,
       "n": 0,
       "ncols": null,
       "nrows": 25,
       "postfix": null,
       "prefix": "20230812000000-120h-oper-fc.grib2",
       "rate": null,
       "total": 286674,
       "unit": "B",
       "unit_divisor": 1024,
       "unit_scale": true
      },
      "application/vnd.jupyter.widget-view+json": {
       "model_id": "",
       "version_major": 2,
       "version_minor": 0
      },
      "text/plain": [
       "20230812000000-120h-oper-fc.grib2:   0%|          | 0.00/280k [00:00<?, ?B/s]"
      ]
     },
     "metadata": {},
     "output_type": "display_data"
    },
    {
     "data": {
      "application/json": {
       "ascii": false,
       "bar_format": null,
       "colour": null,
       "elapsed": 0.012702465057373047,
       "initial": 0,
       "n": 0,
       "ncols": null,
       "nrows": 25,
       "postfix": null,
       "prefix": "20230812000000-123h-oper-fc.grib2",
       "rate": null,
       "total": 285867,
       "unit": "B",
       "unit_divisor": 1024,
       "unit_scale": true
      },
      "application/vnd.jupyter.widget-view+json": {
       "model_id": "",
       "version_major": 2,
       "version_minor": 0
      },
      "text/plain": [
       "20230812000000-123h-oper-fc.grib2:   0%|          | 0.00/279k [00:00<?, ?B/s]"
      ]
     },
     "metadata": {},
     "output_type": "display_data"
    },
    {
     "data": {
      "application/json": {
       "ascii": false,
       "bar_format": null,
       "colour": null,
       "elapsed": 0.014088153839111328,
       "initial": 0,
       "n": 0,
       "ncols": null,
       "nrows": 25,
       "postfix": null,
       "prefix": "20230812000000-126h-oper-fc.grib2",
       "rate": null,
       "total": 285954,
       "unit": "B",
       "unit_divisor": 1024,
       "unit_scale": true
      },
      "application/vnd.jupyter.widget-view+json": {
       "model_id": "",
       "version_major": 2,
       "version_minor": 0
      },
      "text/plain": [
       "20230812000000-126h-oper-fc.grib2:   0%|          | 0.00/279k [00:00<?, ?B/s]"
      ]
     },
     "metadata": {},
     "output_type": "display_data"
    },
    {
     "data": {
      "application/json": {
       "ascii": false,
       "bar_format": null,
       "colour": null,
       "elapsed": 0.022493600845336914,
       "initial": 0,
       "n": 0,
       "ncols": null,
       "nrows": 25,
       "postfix": null,
       "prefix": "20230812000000-129h-oper-fc.grib2",
       "rate": null,
       "total": 287353,
       "unit": "B",
       "unit_divisor": 1024,
       "unit_scale": true
      },
      "application/vnd.jupyter.widget-view+json": {
       "model_id": "",
       "version_major": 2,
       "version_minor": 0
      },
      "text/plain": [
       "20230812000000-129h-oper-fc.grib2:   0%|          | 0.00/281k [00:00<?, ?B/s]"
      ]
     },
     "metadata": {},
     "output_type": "display_data"
    },
    {
     "data": {
      "application/json": {
       "ascii": false,
       "bar_format": null,
       "colour": null,
       "elapsed": 0.010785341262817383,
       "initial": 0,
       "n": 0,
       "ncols": null,
       "nrows": 25,
       "postfix": null,
       "prefix": "20230812000000-132h-oper-fc.grib2",
       "rate": null,
       "total": 239527,
       "unit": "B",
       "unit_divisor": 1024,
       "unit_scale": true
      },
      "application/vnd.jupyter.widget-view+json": {
       "model_id": "",
       "version_major": 2,
       "version_minor": 0
      },
      "text/plain": [
       "20230812000000-132h-oper-fc.grib2:   0%|          | 0.00/234k [00:00<?, ?B/s]"
      ]
     },
     "metadata": {},
     "output_type": "display_data"
    },
    {
     "data": {
      "application/json": {
       "ascii": false,
       "bar_format": null,
       "colour": null,
       "elapsed": 0.012317419052124023,
       "initial": 0,
       "n": 0,
       "ncols": null,
       "nrows": 25,
       "postfix": null,
       "prefix": "20230812000000-135h-oper-fc.grib2",
       "rate": null,
       "total": 287926,
       "unit": "B",
       "unit_divisor": 1024,
       "unit_scale": true
      },
      "application/vnd.jupyter.widget-view+json": {
       "model_id": "",
       "version_major": 2,
       "version_minor": 0
      },
      "text/plain": [
       "20230812000000-135h-oper-fc.grib2:   0%|          | 0.00/281k [00:00<?, ?B/s]"
      ]
     },
     "metadata": {},
     "output_type": "display_data"
    },
    {
     "data": {
      "application/json": {
       "ascii": false,
       "bar_format": null,
       "colour": null,
       "elapsed": 0.011800765991210938,
       "initial": 0,
       "n": 0,
       "ncols": null,
       "nrows": 25,
       "postfix": null,
       "prefix": "20230812000000-138h-oper-fc.grib2",
       "rate": null,
       "total": 288427,
       "unit": "B",
       "unit_divisor": 1024,
       "unit_scale": true
      },
      "application/vnd.jupyter.widget-view+json": {
       "model_id": "",
       "version_major": 2,
       "version_minor": 0
      },
      "text/plain": [
       "20230812000000-138h-oper-fc.grib2:   0%|          | 0.00/282k [00:00<?, ?B/s]"
      ]
     },
     "metadata": {},
     "output_type": "display_data"
    },
    {
     "data": {
      "application/json": {
       "ascii": false,
       "bar_format": null,
       "colour": null,
       "elapsed": 0.014172077178955078,
       "initial": 0,
       "n": 0,
       "ncols": null,
       "nrows": 25,
       "postfix": null,
       "prefix": "20230812000000-141h-oper-fc.grib2",
       "rate": null,
       "total": 287734,
       "unit": "B",
       "unit_divisor": 1024,
       "unit_scale": true
      },
      "application/vnd.jupyter.widget-view+json": {
       "model_id": "",
       "version_major": 2,
       "version_minor": 0
      },
      "text/plain": [
       "20230812000000-141h-oper-fc.grib2:   0%|          | 0.00/281k [00:00<?, ?B/s]"
      ]
     },
     "metadata": {},
     "output_type": "display_data"
    },
    {
     "data": {
      "application/json": {
       "ascii": false,
       "bar_format": null,
       "colour": null,
       "elapsed": 0.013331413269042969,
       "initial": 0,
       "n": 0,
       "ncols": null,
       "nrows": 25,
       "postfix": null,
       "prefix": "20230812000000-144h-oper-fc.grib2",
       "rate": null,
       "total": 286310,
       "unit": "B",
       "unit_divisor": 1024,
       "unit_scale": true
      },
      "application/vnd.jupyter.widget-view+json": {
       "model_id": "",
       "version_major": 2,
       "version_minor": 0
      },
      "text/plain": [
       "20230812000000-144h-oper-fc.grib2:   0%|          | 0.00/280k [00:00<?, ?B/s]"
      ]
     },
     "metadata": {},
     "output_type": "display_data"
    },
    {
     "data": {
      "application/json": {
       "ascii": false,
       "bar_format": null,
       "colour": null,
       "elapsed": 0.010866403579711914,
       "initial": 0,
       "n": 0,
       "ncols": null,
       "nrows": 25,
       "postfix": null,
       "prefix": "20230812000000-150h-oper-fc.grib2",
       "rate": null,
       "total": 286017,
       "unit": "B",
       "unit_divisor": 1024,
       "unit_scale": true
      },
      "application/vnd.jupyter.widget-view+json": {
       "model_id": "",
       "version_major": 2,
       "version_minor": 0
      },
      "text/plain": [
       "20230812000000-150h-oper-fc.grib2:   0%|          | 0.00/279k [00:00<?, ?B/s]"
      ]
     },
     "metadata": {},
     "output_type": "display_data"
    },
    {
     "data": {
      "application/json": {
       "ascii": false,
       "bar_format": null,
       "colour": null,
       "elapsed": 0.010534524917602539,
       "initial": 0,
       "n": 0,
       "ncols": null,
       "nrows": 25,
       "postfix": null,
       "prefix": "20230812000000-156h-oper-fc.grib2",
       "rate": null,
       "total": 239637,
       "unit": "B",
       "unit_divisor": 1024,
       "unit_scale": true
      },
      "application/vnd.jupyter.widget-view+json": {
       "model_id": "",
       "version_major": 2,
       "version_minor": 0
      },
      "text/plain": [
       "20230812000000-156h-oper-fc.grib2:   0%|          | 0.00/234k [00:00<?, ?B/s]"
      ]
     },
     "metadata": {},
     "output_type": "display_data"
    },
    {
     "data": {
      "application/json": {
       "ascii": false,
       "bar_format": null,
       "colour": null,
       "elapsed": 0.011673688888549805,
       "initial": 0,
       "n": 0,
       "ncols": null,
       "nrows": 25,
       "postfix": null,
       "prefix": "20230812000000-162h-oper-fc.grib2",
       "rate": null,
       "total": 288393,
       "unit": "B",
       "unit_divisor": 1024,
       "unit_scale": true
      },
      "application/vnd.jupyter.widget-view+json": {
       "model_id": "",
       "version_major": 2,
       "version_minor": 0
      },
      "text/plain": [
       "20230812000000-162h-oper-fc.grib2:   0%|          | 0.00/282k [00:00<?, ?B/s]"
      ]
     },
     "metadata": {},
     "output_type": "display_data"
    },
    {
     "data": {
      "application/json": {
       "ascii": false,
       "bar_format": null,
       "colour": null,
       "elapsed": 0.013564586639404297,
       "initial": 0,
       "n": 0,
       "ncols": null,
       "nrows": 25,
       "postfix": null,
       "prefix": "20230812000000-168h-oper-fc.grib2",
       "rate": null,
       "total": 285875,
       "unit": "B",
       "unit_divisor": 1024,
       "unit_scale": true
      },
      "application/vnd.jupyter.widget-view+json": {
       "model_id": "",
       "version_major": 2,
       "version_minor": 0
      },
      "text/plain": [
       "20230812000000-168h-oper-fc.grib2:   0%|          | 0.00/279k [00:00<?, ?B/s]"
      ]
     },
     "metadata": {},
     "output_type": "display_data"
    },
    {
     "data": {
      "application/json": {
       "ascii": false,
       "bar_format": null,
       "colour": null,
       "elapsed": 0.01434946060180664,
       "initial": 0,
       "n": 0,
       "ncols": null,
       "nrows": 25,
       "postfix": null,
       "prefix": "20230812000000-174h-oper-fc.grib2",
       "rate": null,
       "total": 285499,
       "unit": "B",
       "unit_divisor": 1024,
       "unit_scale": true
      },
      "application/vnd.jupyter.widget-view+json": {
       "model_id": "",
       "version_major": 2,
       "version_minor": 0
      },
      "text/plain": [
       "20230812000000-174h-oper-fc.grib2:   0%|          | 0.00/279k [00:00<?, ?B/s]"
      ]
     },
     "metadata": {},
     "output_type": "display_data"
    },
    {
     "data": {
      "application/json": {
       "ascii": false,
       "bar_format": null,
       "colour": null,
       "elapsed": 0.010506391525268555,
       "initial": 0,
       "n": 0,
       "ncols": null,
       "nrows": 25,
       "postfix": null,
       "prefix": "20230812000000-180h-oper-fc.grib2",
       "rate": null,
       "total": 238500,
       "unit": "B",
       "unit_divisor": 1024,
       "unit_scale": true
      },
      "application/vnd.jupyter.widget-view+json": {
       "model_id": "",
       "version_major": 2,
       "version_minor": 0
      },
      "text/plain": [
       "20230812000000-180h-oper-fc.grib2:   0%|          | 0.00/233k [00:00<?, ?B/s]"
      ]
     },
     "metadata": {},
     "output_type": "display_data"
    },
    {
     "data": {
      "application/json": {
       "ascii": false,
       "bar_format": null,
       "colour": null,
       "elapsed": 0.010690450668334961,
       "initial": 0,
       "n": 0,
       "ncols": null,
       "nrows": 25,
       "postfix": null,
       "prefix": "20230812000000-186h-oper-fc.grib2",
       "rate": null,
       "total": 287033,
       "unit": "B",
       "unit_divisor": 1024,
       "unit_scale": true
      },
      "application/vnd.jupyter.widget-view+json": {
       "model_id": "",
       "version_major": 2,
       "version_minor": 0
      },
      "text/plain": [
       "20230812000000-186h-oper-fc.grib2:   0%|          | 0.00/280k [00:00<?, ?B/s]"
      ]
     },
     "metadata": {},
     "output_type": "display_data"
    },
    {
     "data": {
      "application/json": {
       "ascii": false,
       "bar_format": null,
       "colour": null,
       "elapsed": 0.018459081649780273,
       "initial": 0,
       "n": 0,
       "ncols": null,
       "nrows": 25,
       "postfix": null,
       "prefix": "20230812000000-192h-oper-fc.grib2",
       "rate": null,
       "total": 284733,
       "unit": "B",
       "unit_divisor": 1024,
       "unit_scale": true
      },
      "application/vnd.jupyter.widget-view+json": {
       "model_id": "",
       "version_major": 2,
       "version_minor": 0
      },
      "text/plain": [
       "20230812000000-192h-oper-fc.grib2:   0%|          | 0.00/278k [00:00<?, ?B/s]"
      ]
     },
     "metadata": {},
     "output_type": "display_data"
    },
    {
     "data": {
      "application/json": {
       "ascii": false,
       "bar_format": null,
       "colour": null,
       "elapsed": 0.016138315200805664,
       "initial": 0,
       "n": 0,
       "ncols": null,
       "nrows": 25,
       "postfix": null,
       "prefix": "20230812000000-198h-oper-fc.grib2",
       "rate": null,
       "total": 284785,
       "unit": "B",
       "unit_divisor": 1024,
       "unit_scale": true
      },
      "application/vnd.jupyter.widget-view+json": {
       "model_id": "",
       "version_major": 2,
       "version_minor": 0
      },
      "text/plain": [
       "20230812000000-198h-oper-fc.grib2:   0%|          | 0.00/278k [00:00<?, ?B/s]"
      ]
     },
     "metadata": {},
     "output_type": "display_data"
    },
    {
     "data": {
      "application/json": {
       "ascii": false,
       "bar_format": null,
       "colour": null,
       "elapsed": 0.012847423553466797,
       "initial": 0,
       "n": 0,
       "ncols": null,
       "nrows": 25,
       "postfix": null,
       "prefix": "20230812000000-204h-oper-fc.grib2",
       "rate": null,
       "total": 286641,
       "unit": "B",
       "unit_divisor": 1024,
       "unit_scale": true
      },
      "application/vnd.jupyter.widget-view+json": {
       "model_id": "",
       "version_major": 2,
       "version_minor": 0
      },
      "text/plain": [
       "20230812000000-204h-oper-fc.grib2:   0%|          | 0.00/280k [00:00<?, ?B/s]"
      ]
     },
     "metadata": {},
     "output_type": "display_data"
    },
    {
     "data": {
      "application/json": {
       "ascii": false,
       "bar_format": null,
       "colour": null,
       "elapsed": 0.015208721160888672,
       "initial": 0,
       "n": 0,
       "ncols": null,
       "nrows": 25,
       "postfix": null,
       "prefix": "20230812000000-210h-oper-fc.grib2",
       "rate": null,
       "total": 287442,
       "unit": "B",
       "unit_divisor": 1024,
       "unit_scale": true
      },
      "application/vnd.jupyter.widget-view+json": {
       "model_id": "",
       "version_major": 2,
       "version_minor": 0
      },
      "text/plain": [
       "20230812000000-210h-oper-fc.grib2:   0%|          | 0.00/281k [00:00<?, ?B/s]"
      ]
     },
     "metadata": {},
     "output_type": "display_data"
    },
    {
     "data": {
      "application/json": {
       "ascii": false,
       "bar_format": null,
       "colour": null,
       "elapsed": 0.01396036148071289,
       "initial": 0,
       "n": 0,
       "ncols": null,
       "nrows": 25,
       "postfix": null,
       "prefix": "20230812000000-216h-oper-fc.grib2",
       "rate": null,
       "total": 285424,
       "unit": "B",
       "unit_divisor": 1024,
       "unit_scale": true
      },
      "application/vnd.jupyter.widget-view+json": {
       "model_id": "",
       "version_major": 2,
       "version_minor": 0
      },
      "text/plain": [
       "20230812000000-216h-oper-fc.grib2:   0%|          | 0.00/279k [00:00<?, ?B/s]"
      ]
     },
     "metadata": {},
     "output_type": "display_data"
    },
    {
     "data": {
      "application/json": {
       "ascii": false,
       "bar_format": null,
       "colour": null,
       "elapsed": 0.01327824592590332,
       "initial": 0,
       "n": 0,
       "ncols": null,
       "nrows": 25,
       "postfix": null,
       "prefix": "20230812000000-222h-oper-fc.grib2",
       "rate": null,
       "total": 285943,
       "unit": "B",
       "unit_divisor": 1024,
       "unit_scale": true
      },
      "application/vnd.jupyter.widget-view+json": {
       "model_id": "",
       "version_major": 2,
       "version_minor": 0
      },
      "text/plain": [
       "20230812000000-222h-oper-fc.grib2:   0%|          | 0.00/279k [00:00<?, ?B/s]"
      ]
     },
     "metadata": {},
     "output_type": "display_data"
    },
    {
     "data": {
      "application/json": {
       "ascii": false,
       "bar_format": null,
       "colour": null,
       "elapsed": 0.014878034591674805,
       "initial": 0,
       "n": 0,
       "ncols": null,
       "nrows": 25,
       "postfix": null,
       "prefix": "20230812000000-228h-oper-fc.grib2",
       "rate": null,
       "total": 239806,
       "unit": "B",
       "unit_divisor": 1024,
       "unit_scale": true
      },
      "application/vnd.jupyter.widget-view+json": {
       "model_id": "",
       "version_major": 2,
       "version_minor": 0
      },
      "text/plain": [
       "20230812000000-228h-oper-fc.grib2:   0%|          | 0.00/234k [00:00<?, ?B/s]"
      ]
     },
     "metadata": {},
     "output_type": "display_data"
    },
    {
     "data": {
      "application/json": {
       "ascii": false,
       "bar_format": null,
       "colour": null,
       "elapsed": 0.04033994674682617,
       "initial": 0,
       "n": 0,
       "ncols": null,
       "nrows": 25,
       "postfix": null,
       "prefix": "20230812000000-234h-oper-fc.grib2",
       "rate": null,
       "total": 288656,
       "unit": "B",
       "unit_divisor": 1024,
       "unit_scale": true
      },
      "application/vnd.jupyter.widget-view+json": {
       "model_id": "",
       "version_major": 2,
       "version_minor": 0
      },
      "text/plain": [
       "20230812000000-234h-oper-fc.grib2:   0%|          | 0.00/282k [00:00<?, ?B/s]"
      ]
     },
     "metadata": {},
     "output_type": "display_data"
    },
    {
     "data": {
      "application/json": {
       "ascii": false,
       "bar_format": null,
       "colour": null,
       "elapsed": 0.024204254150390625,
       "initial": 0,
       "n": 0,
       "ncols": null,
       "nrows": 25,
       "postfix": null,
       "prefix": "20230812000000-240h-oper-fc.grib2",
       "rate": null,
       "total": 286269,
       "unit": "B",
       "unit_divisor": 1024,
       "unit_scale": true
      },
      "application/vnd.jupyter.widget-view+json": {
       "model_id": "",
       "version_major": 2,
       "version_minor": 0
      },
      "text/plain": [
       "20230812000000-240h-oper-fc.grib2:   0%|          | 0.00/280k [00:00<?, ?B/s]"
      ]
     },
     "metadata": {},
     "output_type": "display_data"
    }
   ],
   "source": [
    "client = Client(\"ecmwf\", beta=True)\n",
    "parameters = ['2t']\n",
    "# temporary output\n",
    "output_filename = '2t.grib'\n",
    "# where to store the averages (in a single file for each base_date) for the forecast\n",
    "averages_data_folder = 'data'\n",
    "\n",
    "## ONLY USE t = 0 or t = 12\n",
    "# d can be 0 (today), or past day forecasts (-1 or -2 or -3)\n",
    "d = 0\n",
    "t = 0\n",
    "averages = retrieve_all_steps_2t(d, t)\n",
    "# store the data for use later\n",
    "write_averages(averages_data_folder, averages)"
   ]
  },
  {
   "cell_type": "code",
   "execution_count": null,
   "id": "1749c3b2",
   "metadata": {},
   "outputs": [],
   "source": []
  },
  {
   "cell_type": "code",
   "execution_count": 12,
   "id": "4ed2ac8e",
   "metadata": {},
   "outputs": [
    {
     "name": "stdout",
     "output_type": "stream",
     "text": [
      "-- Processing data/20230805_00\n",
      "Global 2m temp average (C) for 20230805:  8.712 (day over day delta:  0.000)\n",
      "Global 2m temp average (C) for 20230806:  8.561 (day over day delta: -0.151)\n",
      "Global 2m temp average (C) for 20230807:  8.420 (day over day delta: -0.141)\n",
      "Global 2m temp average (C) for 20230808:  8.350 (day over day delta: -0.070)\n",
      "Global 2m temp average (C) for 20230809:  8.276 (day over day delta: -0.074)\n",
      "Global 2m temp average (C) for 20230810:  8.126 (day over day delta: -0.150)\n",
      "Global 2m temp average (C) for 20230811:  8.004 (day over day delta: -0.122)\n",
      "Global 2m temp average (C) for 20230812:  7.941 (day over day delta: -0.063)\n",
      "Global 2m temp average (C) for 20230813:  8.006 (day over day delta:  0.065)\n",
      "Global 2m temp average (C) for 20230814:  8.193 (day over day delta:  0.187)\n",
      "-- Processing data/20230805_12\n",
      "Global 2m temp average (C) for 20230805:  8.777 (day over day delta:  0.000)\n",
      "Global 2m temp average (C) for 20230806:  8.561 (day over day delta: -0.216)\n",
      "Global 2m temp average (C) for 20230807:  8.432 (day over day delta: -0.129)\n",
      "Global 2m temp average (C) for 20230808:  8.362 (day over day delta: -0.070)\n",
      "Global 2m temp average (C) for 20230809:  8.229 (day over day delta: -0.132)\n",
      "Global 2m temp average (C) for 20230810:  8.015 (day over day delta: -0.214)\n",
      "Global 2m temp average (C) for 20230811:  7.889 (day over day delta: -0.127)\n",
      "Global 2m temp average (C) for 20230812:  7.814 (day over day delta: -0.075)\n",
      "Global 2m temp average (C) for 20230813:  7.915 (day over day delta:  0.102)\n",
      "Global 2m temp average (C) for 20230814:  8.237 (day over day delta:  0.321)\n",
      "-- Processing data/20230806_00\n",
      "Global 2m temp average (C) for 20230806:  8.553 (day over day delta:  0.000)\n",
      "Global 2m temp average (C) for 20230807:  8.407 (day over day delta: -0.146)\n",
      "Global 2m temp average (C) for 20230808:  8.307 (day over day delta: -0.099)\n",
      "Global 2m temp average (C) for 20230809:  8.136 (day over day delta: -0.171)\n",
      "Global 2m temp average (C) for 20230810:  7.988 (day over day delta: -0.148)\n",
      "Global 2m temp average (C) for 20230811:  7.870 (day over day delta: -0.118)\n",
      "Global 2m temp average (C) for 20230812:  7.836 (day over day delta: -0.034)\n",
      "Global 2m temp average (C) for 20230813:  7.734 (day over day delta: -0.102)\n",
      "Global 2m temp average (C) for 20230814:  7.789 (day over day delta:  0.055)\n",
      "Global 2m temp average (C) for 20230815:  7.937 (day over day delta:  0.148)\n",
      "-- Processing data/20230806_12\n",
      "Global 2m temp average (C) for 20230806:  8.606 (day over day delta:  0.000)\n",
      "Global 2m temp average (C) for 20230807:  8.404 (day over day delta: -0.202)\n",
      "Global 2m temp average (C) for 20230808:  8.279 (day over day delta: -0.125)\n",
      "Global 2m temp average (C) for 20230809:  8.101 (day over day delta: -0.178)\n",
      "Global 2m temp average (C) for 20230810:  7.949 (day over day delta: -0.153)\n",
      "Global 2m temp average (C) for 20230811:  7.773 (day over day delta: -0.175)\n",
      "Global 2m temp average (C) for 20230812:  7.631 (day over day delta: -0.142)\n",
      "Global 2m temp average (C) for 20230813:  7.705 (day over day delta:  0.074)\n",
      "Global 2m temp average (C) for 20230814:  7.763 (day over day delta:  0.058)\n",
      "Global 2m temp average (C) for 20230815:  7.739 (day over day delta: -0.024)\n",
      "-- Processing data/20230807_00\n",
      "Global 2m temp average (C) for 20230807:  8.361 (day over day delta:  0.000)\n",
      "Global 2m temp average (C) for 20230808:  8.224 (day over day delta: -0.137)\n",
      "Global 2m temp average (C) for 20230809:  8.056 (day over day delta: -0.168)\n",
      "Global 2m temp average (C) for 20230810:  7.914 (day over day delta: -0.142)\n",
      "Global 2m temp average (C) for 20230811:  7.749 (day over day delta: -0.165)\n",
      "Global 2m temp average (C) for 20230812:  7.668 (day over day delta: -0.082)\n",
      "Global 2m temp average (C) for 20230813:  7.802 (day over day delta:  0.134)\n",
      "Global 2m temp average (C) for 20230814:  8.125 (day over day delta:  0.324)\n",
      "Global 2m temp average (C) for 20230815:  8.273 (day over day delta:  0.148)\n",
      "Global 2m temp average (C) for 20230816:  8.200 (day over day delta: -0.073)\n",
      "-- Processing data/20230807_12\n",
      "Global 2m temp average (C) for 20230807:  8.412 (day over day delta:  0.000)\n",
      "Global 2m temp average (C) for 20230808:  8.220 (day over day delta: -0.193)\n",
      "Global 2m temp average (C) for 20230809:  8.036 (day over day delta: -0.184)\n",
      "Global 2m temp average (C) for 20230810:  7.926 (day over day delta: -0.110)\n",
      "Global 2m temp average (C) for 20230811:  7.801 (day over day delta: -0.124)\n",
      "Global 2m temp average (C) for 20230812:  7.686 (day over day delta: -0.115)\n",
      "Global 2m temp average (C) for 20230813:  7.877 (day over day delta:  0.191)\n",
      "Global 2m temp average (C) for 20230814:  8.097 (day over day delta:  0.220)\n",
      "Global 2m temp average (C) for 20230815:  8.000 (day over day delta: -0.097)\n",
      "Global 2m temp average (C) for 20230816:  8.152 (day over day delta:  0.152)\n",
      "-- Processing data/20230808_00\n",
      "Global 2m temp average (C) for 20230808:  8.206 (day over day delta:  0.000)\n",
      "Global 2m temp average (C) for 20230809:  8.023 (day over day delta: -0.182)\n",
      "Global 2m temp average (C) for 20230810:  7.931 (day over day delta: -0.092)\n",
      "Global 2m temp average (C) for 20230811:  7.784 (day over day delta: -0.147)\n",
      "Global 2m temp average (C) for 20230812:  7.615 (day over day delta: -0.169)\n",
      "Global 2m temp average (C) for 20230813:  7.802 (day over day delta:  0.188)\n",
      "Global 2m temp average (C) for 20230814:  7.928 (day over day delta:  0.126)\n",
      "Global 2m temp average (C) for 20230815:  7.770 (day over day delta: -0.158)\n",
      "Global 2m temp average (C) for 20230816:  7.677 (day over day delta: -0.093)\n",
      "Global 2m temp average (C) for 20230817:  7.636 (day over day delta: -0.041)\n",
      "-- Processing data/20230808_12\n",
      "Global 2m temp average (C) for 20230808:  8.238 (day over day delta:  0.000)\n",
      "Global 2m temp average (C) for 20230809:  8.032 (day over day delta: -0.207)\n",
      "Global 2m temp average (C) for 20230810:  7.944 (day over day delta: -0.088)\n",
      "Global 2m temp average (C) for 20230811:  7.804 (day over day delta: -0.140)\n",
      "Global 2m temp average (C) for 20230812:  7.708 (day over day delta: -0.095)\n",
      "Global 2m temp average (C) for 20230813:  7.835 (day over day delta:  0.127)\n",
      "Global 2m temp average (C) for 20230814:  7.832 (day over day delta: -0.003)\n",
      "Global 2m temp average (C) for 20230815:  7.959 (day over day delta:  0.127)\n",
      "Global 2m temp average (C) for 20230816:  8.346 (day over day delta:  0.387)\n",
      "Global 2m temp average (C) for 20230817:  8.529 (day over day delta:  0.183)\n",
      "-- Processing data/20230809_00\n",
      "Global 2m temp average (C) for 20230809:  8.021 (day over day delta:  0.000)\n",
      "Global 2m temp average (C) for 20230810:  7.954 (day over day delta: -0.067)\n",
      "Global 2m temp average (C) for 20230811:  7.807 (day over day delta: -0.147)\n",
      "Global 2m temp average (C) for 20230812:  7.702 (day over day delta: -0.105)\n",
      "Global 2m temp average (C) for 20230813:  7.822 (day over day delta:  0.120)\n",
      "Global 2m temp average (C) for 20230814:  7.793 (day over day delta: -0.029)\n",
      "Global 2m temp average (C) for 20230815:  7.771 (day over day delta: -0.021)\n",
      "Global 2m temp average (C) for 20230816:  7.771 (day over day delta: -0.000)\n",
      "Global 2m temp average (C) for 20230817:  7.643 (day over day delta: -0.128)\n",
      "Global 2m temp average (C) for 20230818:  7.742 (day over day delta:  0.098)\n",
      "-- Processing data/20230809_12\n",
      "Global 2m temp average (C) for 20230809:  8.048 (day over day delta:  0.000)\n",
      "Global 2m temp average (C) for 20230810:  7.948 (day over day delta: -0.100)\n",
      "Global 2m temp average (C) for 20230811:  7.792 (day over day delta: -0.156)\n",
      "Global 2m temp average (C) for 20230812:  7.700 (day over day delta: -0.091)\n",
      "Global 2m temp average (C) for 20230813:  7.789 (day over day delta:  0.089)\n",
      "Global 2m temp average (C) for 20230814:  7.805 (day over day delta:  0.016)\n",
      "Global 2m temp average (C) for 20230815:  7.865 (day over day delta:  0.060)\n",
      "Global 2m temp average (C) for 20230816:  8.143 (day over day delta:  0.278)\n",
      "Global 2m temp average (C) for 20230817:  8.233 (day over day delta:  0.090)\n",
      "Global 2m temp average (C) for 20230818:  8.342 (day over day delta:  0.108)\n",
      "-- Processing data/20230810_00\n",
      "Global 2m temp average (C) for 20230810:  7.934 (day over day delta:  0.000)\n",
      "Global 2m temp average (C) for 20230811:  7.787 (day over day delta: -0.147)\n",
      "Global 2m temp average (C) for 20230812:  7.695 (day over day delta: -0.092)\n",
      "Global 2m temp average (C) for 20230813:  7.777 (day over day delta:  0.082)\n",
      "Global 2m temp average (C) for 20230814:  7.821 (day over day delta:  0.044)\n",
      "Global 2m temp average (C) for 20230815:  7.872 (day over day delta:  0.051)\n",
      "Global 2m temp average (C) for 20230816:  8.109 (day over day delta:  0.238)\n",
      "Global 2m temp average (C) for 20230817:  7.976 (day over day delta: -0.133)\n",
      "Global 2m temp average (C) for 20230818:  7.941 (day over day delta: -0.036)\n",
      "Global 2m temp average (C) for 20230819:  7.784 (day over day delta: -0.157)\n",
      "-- Processing data/20230810_12\n",
      "Global 2m temp average (C) for 20230810:  8.008 (day over day delta:  0.000)\n",
      "Global 2m temp average (C) for 20230811:  7.804 (day over day delta: -0.205)\n",
      "Global 2m temp average (C) for 20230812:  7.706 (day over day delta: -0.098)\n",
      "Global 2m temp average (C) for 20230813:  7.814 (day over day delta:  0.108)\n",
      "Global 2m temp average (C) for 20230814:  7.875 (day over day delta:  0.061)\n",
      "Global 2m temp average (C) for 20230815:  7.860 (day over day delta: -0.015)\n",
      "Global 2m temp average (C) for 20230816:  7.981 (day over day delta:  0.121)\n",
      "Global 2m temp average (C) for 20230817:  7.785 (day over day delta: -0.196)\n",
      "Global 2m temp average (C) for 20230818:  7.749 (day over day delta: -0.036)\n",
      "Global 2m temp average (C) for 20230819:  7.858 (day over day delta:  0.109)\n",
      "-- Processing data/20230811_00\n",
      "Global 2m temp average (C) for 20230811:  7.828 (day over day delta:  0.000)\n",
      "Global 2m temp average (C) for 20230812:  7.765 (day over day delta: -0.063)\n",
      "Global 2m temp average (C) for 20230813:  7.852 (day over day delta:  0.087)\n",
      "Global 2m temp average (C) for 20230814:  7.879 (day over day delta:  0.027)\n",
      "Global 2m temp average (C) for 20230815:  7.942 (day over day delta:  0.063)\n",
      "Global 2m temp average (C) for 20230816:  8.287 (day over day delta:  0.344)\n",
      "Global 2m temp average (C) for 20230817:  8.234 (day over day delta: -0.052)\n",
      "Global 2m temp average (C) for 20230818:  8.205 (day over day delta: -0.029)\n",
      "Global 2m temp average (C) for 20230819:  8.280 (day over day delta:  0.075)\n",
      "Global 2m temp average (C) for 20230820:  8.363 (day over day delta:  0.083)\n",
      "-- Processing data/20230811_12\n",
      "Global 2m temp average (C) for 20230811:  7.862 (day over day delta:  0.000)\n",
      "Global 2m temp average (C) for 20230812:  7.774 (day over day delta: -0.088)\n",
      "Global 2m temp average (C) for 20230813:  7.828 (day over day delta:  0.054)\n",
      "Global 2m temp average (C) for 20230814:  7.860 (day over day delta:  0.032)\n",
      "Global 2m temp average (C) for 20230815:  7.980 (day over day delta:  0.120)\n",
      "Global 2m temp average (C) for 20230816:  8.119 (day over day delta:  0.139)\n",
      "Global 2m temp average (C) for 20230817:  7.937 (day over day delta: -0.182)\n",
      "Global 2m temp average (C) for 20230818:  7.998 (day over day delta:  0.061)\n",
      "Global 2m temp average (C) for 20230819:  8.107 (day over day delta:  0.109)\n",
      "Global 2m temp average (C) for 20230820:  7.918 (day over day delta: -0.189)\n",
      "-- Processing data/20230812_00\n",
      "Global 2m temp average (C) for 20230812:  7.774 (day over day delta:  0.000)\n",
      "Global 2m temp average (C) for 20230813:  7.845 (day over day delta:  0.071)\n",
      "Global 2m temp average (C) for 20230814:  7.873 (day over day delta:  0.028)\n",
      "Global 2m temp average (C) for 20230815:  7.938 (day over day delta:  0.065)\n",
      "Global 2m temp average (C) for 20230816:  7.999 (day over day delta:  0.060)\n",
      "Global 2m temp average (C) for 20230817:  7.890 (day over day delta: -0.109)\n",
      "Global 2m temp average (C) for 20230818:  7.902 (day over day delta:  0.012)\n",
      "Global 2m temp average (C) for 20230819:  7.949 (day over day delta:  0.047)\n",
      "Global 2m temp average (C) for 20230820:  7.760 (day over day delta: -0.189)\n",
      "Global 2m temp average (C) for 20230821:  7.881 (day over day delta:  0.121)\n"
     ]
    }
   ],
   "source": [
    "# Get a list of all items in the data directory\n",
    "items = os.listdir(averages_data_folder)\n",
    "# Filter out only the filenames\n",
    "sorted_files = sorted(os.path.join(averages_data_folder, item) for item in items if os.path.isfile(os.path.join(averages_data_folder, item)))\n",
    "complete_day_averages = {}\n",
    "\n",
    "# file path is the short string that is the base date\n",
    "for file_path in sorted_files:\n",
    "    print(f\"-- Processing {file_path}\")\n",
    "    base_date_short_str = os.path.basename(file_path)\n",
    "    complete_day_averages[base_date_short_str] = process_file(file_path)"
   ]
  },
  {
   "cell_type": "code",
   "execution_count": 14,
   "id": "0c3a4572",
   "metadata": {},
   "outputs": [
    {
     "data": {
      "image/png": "[encoded data removed]",
      "text/plain": [
       "<Figure size 800x1200 with 1 Axes>"
      ]
     },
     "metadata": {},
     "output_type": "display_data"
    }
   ],
   "source": [
    "# strip plot for each day\n",
    "\n",
    "import matplotlib.pyplot as plt\n",
    "import numpy as np\n",
    "import seaborn as sns\n",
    "\n",
    "def graph_strip_plot(forecast, record):\n",
    "    fig, ax = plt.subplots(figsize=(8, 12))\n",
    "    # Create a list of all data points and their corresponding labels\n",
    "    data = []\n",
    "    labels = []\n",
    "    hue = []\n",
    "\n",
    "    for date, temps in forecast.items():\n",
    "        data.extend(temps)\n",
    "        # treat the date as a whole string\n",
    "        labels.extend([date] * len(temps))\n",
    "        #hue.extend(['Forecast'] * len(temps))\n",
    "\n",
    "    #print(labels)\n",
    "    #print(data)\n",
    "    # Set the style of the strip plot\n",
    "    sns.stripplot(x=labels, y=data, dodge=True, alpha=0.9, linewidth=0)\n",
    "\n",
    "    # Add a horizontal line at the rise threshold\n",
    "    ax.axhline(y=record, color='g', linestyle='--')\n",
    "\n",
    "    # Set the y-axis label\n",
    "    ax.set_ylabel('Forecast Global Avg. Temperature (C)')\n",
    "\n",
    "    # Move the legend to the right of the chart\n",
    "    # ax.legend(loc='center left', bbox_to_anchor=(1, 0.5))\n",
    "\n",
    "    # Set the x-axis to be at the top\n",
    "    ax.xaxis.tick_top()\n",
    "    ax.xaxis.set_label_position('top')\n",
    "    \n",
    "    # Rotate the x-axis labels for better readability\n",
    "    plt.xticks(rotation=45)\n",
    "    \n",
    "    # Set more subticks on the y-axis\n",
    "    #plt.yticks(np.arange(-1.0, 1.6, 0.1))\n",
    "\n",
    "    # Increase spacing between each day\n",
    "    #plt.subplots_adjust(wspace=0.6)\n",
    "        \n",
    "    # Add a title to the chart\n",
    "    plt.title('Forecasted Global Daily Temperature Averages' + '\\n' + \n",
    "              'Derived from ECMWF (oper) Temperature Forecasts'\n",
    "    )\n",
    "\n",
    "    # Show the plot\n",
    "    plt.show()\n",
    "\n",
    "forecast = {}\n",
    "# exclude forecasts (base date) older than this day, or set to None for ALL\n",
    "min_forecast_day = \"2023-08-10\"\n",
    "\n",
    "# append all the (valid forecast) days' data from all (base day) forecasts\n",
    "for base_date_short, complete_day_average in complete_day_averages.items():\n",
    "    # each forecast has a set of forecast dates\n",
    "    # use if want to prune old forecasts\n",
    "    base_day = short_str_to_date(base_date_short)\n",
    "\n",
    "    # Date to compare in the format YYYY-MM-DD\n",
    "    if min_forecast_day:\n",
    "        compare_day = datetime.strptime(min_forecast_day, \"%Y-%m-%d\")\n",
    "    else:\n",
    "        compare_day = None\n",
    "\n",
    "    # Compare the dates\n",
    "    if not compare_day or compare_day <= base_day:\n",
    "        for valid_day, forecast_average in complete_day_average.items():\n",
    "            day_str = valid_day\n",
    "            if day_str not in forecast:\n",
    "                forecast[day_str] = []\n",
    "            temps = forecast[day_str]\n",
    "            temps.append(forecast_average)\n",
    "            forecast[day_str] = temps\n",
    "\n",
    "#print(forecast)\n",
    "# CFSR record was on August 2. GEFS forecast from previous day was 8.592\n",
    "record = 8.592\n",
    "graph_strip_plot(forecast, record)"
   ]
  },
  {
   "cell_type": "code",
   "execution_count": null,
   "id": "9eba9db4",
   "metadata": {},
   "outputs": [],
   "source": []
  },
  {
   "cell_type": "code",
   "execution_count": null,
   "id": "939060e0",
   "metadata": {},
   "outputs": [],
   "source": []
  },
  {
   "cell_type": "code",
   "execution_count": null,
   "id": "a2381ae4",
   "metadata": {},
   "outputs": [],
   "source": []
  }
 ],
 "metadata": {
  "kernelspec": {
   "display_name": "Python 3 (ipykernel)",
   "language": "python",
   "name": "python3"
  },
  "language_info": {
   "codemirror_mode": {
    "name": "ipython",
    "version": 3
   },
   "file_extension": ".py",
   "mimetype": "text/x-python",
   "name": "python",
   "nbconvert_exporter": "python",
   "pygments_lexer": "ipython3",
   "version": "3.9.1"
  }
 },
 "nbformat": 4,
 "nbformat_minor": 5
}
